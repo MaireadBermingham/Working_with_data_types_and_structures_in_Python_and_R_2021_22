{
 "cells": [
  {
   "cell_type": "markdown",
   "id": "comic-speech",
   "metadata": {},
   "source": [
    "# **Python data types**  \n",
    "Mairead Bermingham  \n",
    "6 June, 2022"
   ]
  },
  {
   "cell_type": "markdown",
   "id": "requested-alexandria",
   "metadata": {},
   "source": [
    "# **Understanding data types in Python**  \n",
    "\n",
    "Everything in Python is an object. A data type of a variable specifies the type of data that is stored inside that variable.\n",
    "\n",
    "### Python has 4 basic types.\n",
    "* string (character): “BMI”, “Service user”  \n",
    "* numeric\n",
    "    * integer: -1,2\n",
    "    * float:  1.0, 15.3 \n",
    "    * complex: 1+4i  \n",
    "* logical (Boolean): True, False \n",
    "* raw: \"Hello\" is stored as 48 65 6c 6c 6f \n",
    "\n",
    "### Python also provides functions to examine data type features, for example \n",
    "* `type()` - what is the object’s data type (low-level)?  \n",
    "* `len()` - how long is the data?    \n",
    "\n",
    "Let's discuss each of these Python data types one by one. \n",
    "\n",
    "## **String or character data type** \n",
    "\n",
    "Character strings are symbols, letters, words or phases inside double or single quotation marks.   \n",
    "Lets create a string object:"
   ]
  },
  {
   "cell_type": "code",
   "execution_count": 1,
   "id": "raised-procedure",
   "metadata": {},
   "outputs": [
    {
     "name": "stdout",
     "output_type": "stream",
     "text": [
      "Service user\n"
     ]
    }
   ],
   "source": [
    "a = 'Service user'\n",
    "print(a) "
   ]
  },
  {
   "cell_type": "markdown",
   "id": "mighty-geology",
   "metadata": {},
   "source": [
    "What is the object’s data type?"
   ]
  },
  {
   "cell_type": "code",
   "execution_count": 2,
   "id": "soviet-delight",
   "metadata": {},
   "outputs": [
    {
     "data": {
      "text/plain": [
       "str"
      ]
     },
     "execution_count": 2,
     "metadata": {},
     "output_type": "execute_result"
    }
   ],
   "source": [
    "type(a)"
   ]
  },
  {
   "cell_type": "markdown",
   "id": "secondary-interval",
   "metadata": {},
   "source": [
    "## **Numeric data type** \n",
    "In Python, numeric data type represent the data which has numeric value. Numeric value can be integer, floating number or complex numbers. These values are defined as int, float and complex class in Python.\n",
    "\n",
    "### **Integer data type**\n",
    "The  integer data type specifies real values without decimal points, i.e., 1, 12, 20, and −4 are integers, 1.0, 11.5, 20.1, and −4.3 are not.   \n",
    "Lets create an integer object:"
   ]
  },
  {
   "cell_type": "code",
   "execution_count": 3,
   "id": "orange-newark",
   "metadata": {},
   "outputs": [
    {
     "data": {
      "text/plain": [
       "[10, 11, 12, 13, 14, 15, 16, 17, 18, 19, 20]"
      ]
     },
     "execution_count": 3,
     "metadata": {},
     "output_type": "execute_result"
    }
   ],
   "source": [
    "b = [10,11,12,13,14,15,16,17,18,19,20]\n",
    "b"
   ]
  },
  {
   "cell_type": "markdown",
   "id": "announced-customs",
   "metadata": {},
   "source": [
    "What is the object’s data type?"
   ]
  },
  {
   "cell_type": "code",
   "execution_count": 4,
   "id": "solid-situation",
   "metadata": {},
   "outputs": [
    {
     "data": {
      "text/plain": [
       "list"
      ]
     },
     "execution_count": 4,
     "metadata": {},
     "output_type": "execute_result"
    }
   ],
   "source": [
    "type(b)"
   ]
  },
  {
   "cell_type": "markdown",
   "id": "novel-martial",
   "metadata": {},
   "source": [
    "The object's type is a list. To see the data type we will need to query the list using indexing. Indexing in Python is a way to refer the individual items within an iterable by its position. Python lists are 0-indexed. So the first element is 0, second is 1, so on. So if the there are n elements in a list, the last element is n-1. "
   ]
  },
  {
   "cell_type": "code",
   "execution_count": 5,
   "id": "laughing-instrument",
   "metadata": {},
   "outputs": [
    {
     "name": "stdout",
     "output_type": "stream",
     "text": [
      "<class 'int'>\n"
     ]
    }
   ],
   "source": [
    "print(type(b[0]))"
   ]
  },
  {
   "cell_type": "markdown",
   "id": "loved-chicago",
   "metadata": {},
   "source": [
    "How long is b? "
   ]
  },
  {
   "cell_type": "code",
   "execution_count": 6,
   "id": "allied-appendix",
   "metadata": {},
   "outputs": [
    {
     "data": {
      "text/plain": [
       "11"
      ]
     },
     "execution_count": 6,
     "metadata": {},
     "output_type": "execute_result"
    }
   ],
   "source": [
    "len(b)"
   ]
  },
  {
   "cell_type": "markdown",
   "id": "approved-clearance",
   "metadata": {},
   "source": [
    "### **Float data type**\n",
    "In Python, the  float data type represents all real numbers with or without decimal values. Note that, by default, all numbers are double precision. Double-precision floating-point format is a computer number format, usually occupying 64 bits in computer memory. Whereas, single-precision number, usually occupying 32 bits in computer memory. For example, lets create a float object:\n"
   ]
  },
  {
   "cell_type": "code",
   "execution_count": 7,
   "id": "immediate-thailand",
   "metadata": {},
   "outputs": [
    {
     "data": {
      "text/plain": [
       "[10.0, 11.0, 12.0, 13.0, 14.0, 15.0, 16.0, 17.0, 18.0, 19.0, 20.0]"
      ]
     },
     "execution_count": 7,
     "metadata": {},
     "output_type": "execute_result"
    }
   ],
   "source": [
    "c=[float(x) for x in b]\n",
    "c"
   ]
  },
  {
   "cell_type": "markdown",
   "id": "optional-perspective",
   "metadata": {},
   "source": [
    "What is the object’s data type?"
   ]
  },
  {
   "cell_type": "code",
   "execution_count": 8,
   "id": "worldwide-edmonton",
   "metadata": {},
   "outputs": [
    {
     "name": "stdout",
     "output_type": "stream",
     "text": [
      "<class 'float'>\n"
     ]
    }
   ],
   "source": [
    "print(type(c[0]))"
   ]
  },
  {
   "cell_type": "markdown",
   "id": "intended-attack",
   "metadata": {},
   "source": [
    "### **Complex data type**"
   ]
  },
  {
   "cell_type": "markdown",
   "id": "becoming-penalty",
   "metadata": {},
   "source": [
    "The complex data type is an object that includes an imaginary number (j). As imaginary numbers are not generally used in statistics, this data type is not very common. \n",
    "Lets create a complex object:"
   ]
  },
  {
   "cell_type": "code",
   "execution_count": 9,
   "id": "dying-description",
   "metadata": {},
   "outputs": [
    {
     "name": "stdout",
     "output_type": "stream",
     "text": [
      "(1+2j)\n"
     ]
    }
   ],
   "source": [
    "ea=1\n",
    "eb=2\n",
    "e=complex(ea,eb)\n",
    "print(e)"
   ]
  },
  {
   "cell_type": "markdown",
   "id": "cutting-equivalent",
   "metadata": {},
   "source": [
    "Lets assess the real and imaginary parts from the complex number:"
   ]
  },
  {
   "cell_type": "code",
   "execution_count": 10,
   "id": "scenic-hacker",
   "metadata": {},
   "outputs": [
    {
     "name": "stdout",
     "output_type": "stream",
     "text": [
      "1.0\n",
      "2.0\n"
     ]
    }
   ],
   "source": [
    "print(e.real)\n",
    "print(e.imag)"
   ]
  },
  {
   "cell_type": "markdown",
   "id": "seeing-effects",
   "metadata": {},
   "source": [
    "## **Logical(Boolean) data type**\n",
    "The  logical data type in Python is also known as boolean data type. It can only have two values: TRUE and FALSE.   \n",
    "Lets create a logical object:"
   ]
  },
  {
   "cell_type": "code",
   "execution_count": 11,
   "id": "endless-scholarship",
   "metadata": {},
   "outputs": [],
   "source": [
    "d=True"
   ]
  },
  {
   "cell_type": "markdown",
   "id": "established-prince",
   "metadata": {},
   "source": [
    "What is the object’s data type?"
   ]
  },
  {
   "cell_type": "code",
   "execution_count": 12,
   "id": "unexpected-refund",
   "metadata": {},
   "outputs": [
    {
     "data": {
      "text/plain": [
       "bool"
      ]
     },
     "execution_count": 12,
     "metadata": {},
     "output_type": "execute_result"
    }
   ],
   "source": [
    "type(d)"
   ]
  },
  {
   "cell_type": "markdown",
   "id": "hairy-premiere",
   "metadata": {},
   "source": [
    "## **Raw data type in python**\n",
    "The raw data type holds raw bytes, so it is a very unusual data type. For instance, you could transform a character object or a integer numeric value to a raw object with the `bytes()` and `bin()` functions, respectively. The *binascii* package contains a number of methods to convert between binary and various American Standard Code for Information Interchange (ASCII)-encoded binary representations. UTF-8 is a variable-width character encoding used for electronic communication. The `hexlify()` function from the *binascii* package converts bytes to 2-digit hexadecimal representation.\n",
    "Lets create a raw object from a character object:"
   ]
  },
  {
   "cell_type": "code",
   "execution_count": 13,
   "id": "instant-formula",
   "metadata": {},
   "outputs": [
    {
     "name": "stdout",
     "output_type": "stream",
     "text": [
      "<class 'bytes'>\n",
      "Byte variable:  b'Service user'\n",
      "Hexadecimal:  536572766963652075736572\n"
     ]
    }
   ],
   "source": [
    "import binascii as bi\n",
    "f = bytes(\"Service user\", 'utf-8')\n",
    "print(type(f))\n",
    "print('Byte variable: ', f)\n",
    "print('Hexadecimal: ', '' + bi.hexlify(f).decode('utf-8'))"
   ]
  },
  {
   "cell_type": "code",
   "execution_count": 14,
   "id": "italian-update",
   "metadata": {},
   "outputs": [],
   "source": [
    "## Lets create a raw object from an integer object:"
   ]
  },
  {
   "cell_type": "code",
   "execution_count": 15,
   "id": "functioning-cherry",
   "metadata": {},
   "outputs": [
    {
     "name": "stdout",
     "output_type": "stream",
     "text": [
      "0b11\n",
      "<class 'str'>\n"
     ]
    }
   ],
   "source": [
    "fb=bin(3)\n",
    "print(fb)\n",
    "print(type(fb))"
   ]
  },
  {
   "cell_type": "markdown",
   "id": "voluntary-lounge",
   "metadata": {},
   "source": [
    "# **Data types coercion in Python**\n",
    "You can coerce data types in Python with the functions summarised in the following table:\n",
    "    \n",
    "|Function   | Coerced data type\n",
    "| ----------|-----------\n",
    "| str()     | Character\n",
    "| int()     | Integer\n",
    "| float()   | Float\n",
    "| complex() | Complex\n",
    "| bool()    | Boolean\n",
    "\n",
    "For example, if you wanted to coerce a numeric(double) to integer object, you could do as follows:"
   ]
  },
  {
   "cell_type": "code",
   "execution_count": 16,
   "id": "cardiovascular-rally",
   "metadata": {},
   "outputs": [
    {
     "name": "stdout",
     "output_type": "stream",
     "text": [
      "<class 'int'>\n"
     ]
    },
    {
     "data": {
      "text/plain": [
       "int"
      ]
     },
     "execution_count": 16,
     "metadata": {},
     "output_type": "execute_result"
    }
   ],
   "source": [
    "g= 3\n",
    "print(type(g))\n",
    "g= int(g)\n",
    "type(g)"
   ]
  },
  {
   "cell_type": "markdown",
   "id": "equipped-penny",
   "metadata": {},
   "source": [
    "Similarly, you could also coerce a logical value to numeric (0 and 1) or a character string:"
   ]
  },
  {
   "cell_type": "code",
   "execution_count": 17,
   "id": "touched-property",
   "metadata": {},
   "outputs": [
    {
     "name": "stdout",
     "output_type": "stream",
     "text": [
      "<class 'bool'>\n",
      "<class 'float'>\n",
      "1.0\n",
      "<class 'bool'>\n",
      "<class 'str'>\n",
      "True\n"
     ]
    }
   ],
   "source": [
    "h = True\n",
    "print(type(h))\n",
    "h = float(h)\n",
    "print(type(h)) \n",
    "print(h)\n",
    "\n",
    "j = True\n",
    "print(type(j))\n",
    "j = str(j)\n",
    "print(type(j))\n",
    "print(j)"
   ]
  },
  {
   "cell_type": "markdown",
   "id": "regulation-leather",
   "metadata": {},
   "source": [
    "**Note**, if you attempt to coerce two non-compatible data types (like character to numeric) an error will arise:"
   ]
  },
  {
   "cell_type": "code",
   "execution_count": 18,
   "id": "surface-desire",
   "metadata": {},
   "outputs": [
    {
     "name": "stdout",
     "output_type": "stream",
     "text": [
      "<class 'str'>\n"
     ]
    },
    {
     "ename": "ValueError",
     "evalue": "could not convert string to float: 'Service user'",
     "output_type": "error",
     "traceback": [
      "\u001b[0;31m---------------------------------------------------------------------------\u001b[0m",
      "\u001b[0;31mValueError\u001b[0m                                Traceback (most recent call last)",
      "\u001b[0;32m/tmp/ipykernel_154/410149029.py\u001b[0m in \u001b[0;36m<module>\u001b[0;34m\u001b[0m\n\u001b[1;32m      1\u001b[0m \u001b[0mk\u001b[0m\u001b[0;34m=\u001b[0m\u001b[0;34m\"Service user\"\u001b[0m\u001b[0;34m\u001b[0m\u001b[0;34m\u001b[0m\u001b[0m\n\u001b[1;32m      2\u001b[0m \u001b[0mprint\u001b[0m\u001b[0;34m(\u001b[0m\u001b[0mtype\u001b[0m\u001b[0;34m(\u001b[0m\u001b[0mk\u001b[0m\u001b[0;34m)\u001b[0m\u001b[0;34m)\u001b[0m\u001b[0;34m\u001b[0m\u001b[0;34m\u001b[0m\u001b[0m\n\u001b[0;32m----> 3\u001b[0;31m \u001b[0mk\u001b[0m \u001b[0;34m=\u001b[0m \u001b[0mfloat\u001b[0m\u001b[0;34m(\u001b[0m\u001b[0mk\u001b[0m\u001b[0;34m)\u001b[0m\u001b[0;34m\u001b[0m\u001b[0;34m\u001b[0m\u001b[0m\n\u001b[0m",
      "\u001b[0;31mValueError\u001b[0m: could not convert string to float: 'Service user'"
     ]
    }
   ],
   "source": [
    "k=\"Service user\"\n",
    "print(type(k))\n",
    "k = float(k)\n"
   ]
  },
  {
   "cell_type": "markdown",
   "id": "radical-heating",
   "metadata": {},
   "source": [
    "I hope these examples help you to improve your Python programming skills. Happy Coding!"
   ]
  }
 ],
 "metadata": {
  "kernelspec": {
   "display_name": "Python 3 (ipykernel)",
   "language": "python",
   "name": "python3"
  },
  "language_info": {
   "codemirror_mode": {
    "name": "ipython",
    "version": 3
   },
   "file_extension": ".py",
   "mimetype": "text/x-python",
   "name": "python",
   "nbconvert_exporter": "python",
   "pygments_lexer": "ipython3",
   "version": "3.9.2"
  }
 },
 "nbformat": 4,
 "nbformat_minor": 5
}
