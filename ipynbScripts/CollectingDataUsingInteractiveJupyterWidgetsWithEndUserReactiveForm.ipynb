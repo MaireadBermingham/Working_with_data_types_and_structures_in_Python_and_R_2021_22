{
 "cells": [
  {
   "cell_type": "markdown",
   "id": "pleased-absolute",
   "metadata": {},
   "source": [
    "# Title: Collecting data using interactive Jupyter widgets  \n",
    "**Author details:** *Author:* Mairead Bermingham. *Contact details:* mairead.bermingham@ed.ac.uk.  \n",
    "**Notebook and data info:** This Notebook provides an example of using interactive jupyter-widgets and to collect the NHS England accident and emergency attendances and admissions (ae_attendances) data (your test data) and save it to your working ‘Data’ folder, and finally saving all the captured test data to your 'RawData'.  \n",
    "**Data:** Data consists of date, numerical data and character data from NHSRdatasets package.  \n",
    "**Copyright statement:** This Notebook is the product of The University of Edinburgh.  \n",
    "\n",
    "# Data\n",
    "The data you will be managing on the course are from the NHSRdatasets package. This package has been created to support skills development in the NHS-R community and contains several free datasets. The dataset set I have chosen to manage from the NHSRdatasets package is the NHS England accident and emergency (A&E) attendances and admissions (`ae_attendances`) data. The `ae_attendances` data includes reported attendances, four-hour breaches and admissions for all A&E departments in England for 2016/17 through 2018/19 (Apr-Mar). We previously selected a subset of the variables needed for my data capture tool, including period, attendances and breaches, and subsetted the data into test and training data. However, for this lesson, we will use the full `ae_attendances` dataset to demonstrate how to use interactive Jupyter-widgets from the *ipywidgets* package to collect all data types from the `ae_attendances` data. The R script \"./RScripts/LoadingNHSRdatasets_fulldata.R\" was used to subset the full `ae_attendances` data into test and training data.\n",
    "\n",
    "**Note**, you only need to set up widgets for the subset of the variables required for your data capture tool. We are using the full data set here, as you will be using interactive Jupyter widgets to collect different variables from your `ae_attendances` data subsets.\n",
    "\n",
    "### The *pandas* package\n",
    "To import the data, you will need to load the *pandas* package. The Python *pandas* package is used for data manipulation and analysis."
   ]
  },
  {
   "cell_type": "code",
   "execution_count": 1,
   "id": "frozen-attendance",
   "metadata": {
    "tags": [
     "remove_cell"
    ]
   },
   "outputs": [
    {
     "data": {
      "text/html": [
       "<div>\n",
       "<style scoped>\n",
       "    .dataframe tbody tr th:only-of-type {\n",
       "        vertical-align: middle;\n",
       "    }\n",
       "\n",
       "    .dataframe tbody tr th {\n",
       "        vertical-align: top;\n",
       "    }\n",
       "\n",
       "    .dataframe thead th {\n",
       "        text-align: right;\n",
       "    }\n",
       "</style>\n",
       "<table border=\"1\" class=\"dataframe\">\n",
       "  <thead>\n",
       "    <tr style=\"text-align: right;\">\n",
       "      <th></th>\n",
       "      <th>index</th>\n",
       "      <th>period</th>\n",
       "      <th>org_code</th>\n",
       "      <th>type</th>\n",
       "      <th>attendances</th>\n",
       "      <th>breaches</th>\n",
       "      <th>admissions</th>\n",
       "      <th>performance</th>\n",
       "    </tr>\n",
       "  </thead>\n",
       "  <tbody>\n",
       "    <tr>\n",
       "      <th>0</th>\n",
       "      <td>1155</td>\n",
       "      <td>2016-12-01</td>\n",
       "      <td>C82010</td>\n",
       "      <td>other</td>\n",
       "      <td>200</td>\n",
       "      <td>0</td>\n",
       "      <td>0</td>\n",
       "      <td>1.00</td>\n",
       "    </tr>\n",
       "    <tr>\n",
       "      <th>1</th>\n",
       "      <td>2059</td>\n",
       "      <td>2016-10-01</td>\n",
       "      <td>RDZ</td>\n",
       "      <td>1</td>\n",
       "      <td>6452</td>\n",
       "      <td>360</td>\n",
       "      <td>1814</td>\n",
       "      <td>0.94</td>\n",
       "    </tr>\n",
       "    <tr>\n",
       "      <th>2</th>\n",
       "      <td>3468</td>\n",
       "      <td>2016-05-01</td>\n",
       "      <td>RVR</td>\n",
       "      <td>2</td>\n",
       "      <td>417</td>\n",
       "      <td>0</td>\n",
       "      <td>6</td>\n",
       "      <td>1.00</td>\n",
       "    </tr>\n",
       "    <tr>\n",
       "      <th>3</th>\n",
       "      <td>4153</td>\n",
       "      <td>2018-03-01</td>\n",
       "      <td>RQM</td>\n",
       "      <td>other</td>\n",
       "      <td>9376</td>\n",
       "      <td>112</td>\n",
       "      <td>0</td>\n",
       "      <td>0.99</td>\n",
       "    </tr>\n",
       "    <tr>\n",
       "      <th>4</th>\n",
       "      <td>4820</td>\n",
       "      <td>2018-02-01</td>\n",
       "      <td>R1F</td>\n",
       "      <td>other</td>\n",
       "      <td>245</td>\n",
       "      <td>0</td>\n",
       "      <td>0</td>\n",
       "      <td>1.00</td>\n",
       "    </tr>\n",
       "    <tr>\n",
       "      <th>5</th>\n",
       "      <td>7243</td>\n",
       "      <td>2017-07-01</td>\n",
       "      <td>RE9</td>\n",
       "      <td>1</td>\n",
       "      <td>5170</td>\n",
       "      <td>235</td>\n",
       "      <td>1269</td>\n",
       "      <td>0.95</td>\n",
       "    </tr>\n",
       "    <tr>\n",
       "      <th>6</th>\n",
       "      <td>8057</td>\n",
       "      <td>2017-04-01</td>\n",
       "      <td>RQM</td>\n",
       "      <td>1</td>\n",
       "      <td>15957</td>\n",
       "      <td>1309</td>\n",
       "      <td>3375</td>\n",
       "      <td>0.92</td>\n",
       "    </tr>\n",
       "    <tr>\n",
       "      <th>7</th>\n",
       "      <td>8957</td>\n",
       "      <td>2019-02-01</td>\n",
       "      <td>RNL</td>\n",
       "      <td>1</td>\n",
       "      <td>7258</td>\n",
       "      <td>1374</td>\n",
       "      <td>1947</td>\n",
       "      <td>0.81</td>\n",
       "    </tr>\n",
       "    <tr>\n",
       "      <th>8</th>\n",
       "      <td>10214</td>\n",
       "      <td>2018-10-01</td>\n",
       "      <td>RJ1</td>\n",
       "      <td>other</td>\n",
       "      <td>3197</td>\n",
       "      <td>0</td>\n",
       "      <td>0</td>\n",
       "      <td>1.00</td>\n",
       "    </tr>\n",
       "    <tr>\n",
       "      <th>9</th>\n",
       "      <td>10328</td>\n",
       "      <td>2018-10-01</td>\n",
       "      <td>RKB</td>\n",
       "      <td>2</td>\n",
       "      <td>2033</td>\n",
       "      <td>8</td>\n",
       "      <td>105</td>\n",
       "      <td>1.00</td>\n",
       "    </tr>\n",
       "    <tr>\n",
       "      <th>10</th>\n",
       "      <td>11767</td>\n",
       "      <td>2018-06-01</td>\n",
       "      <td>NLO12</td>\n",
       "      <td>other</td>\n",
       "      <td>336</td>\n",
       "      <td>1</td>\n",
       "      <td>0</td>\n",
       "      <td>1.00</td>\n",
       "    </tr>\n",
       "  </tbody>\n",
       "</table>\n",
       "</div>"
      ],
      "text/plain": [
       "    index      period org_code   type  attendances  breaches  admissions  \\\n",
       "0    1155  2016-12-01   C82010  other          200         0           0   \n",
       "1    2059  2016-10-01      RDZ      1         6452       360        1814   \n",
       "2    3468  2016-05-01      RVR      2          417         0           6   \n",
       "3    4153  2018-03-01      RQM  other         9376       112           0   \n",
       "4    4820  2018-02-01      R1F  other          245         0           0   \n",
       "5    7243  2017-07-01      RE9      1         5170       235        1269   \n",
       "6    8057  2017-04-01      RQM      1        15957      1309        3375   \n",
       "7    8957  2019-02-01      RNL      1         7258      1374        1947   \n",
       "8   10214  2018-10-01      RJ1  other         3197         0           0   \n",
       "9   10328  2018-10-01      RKB      2         2033         8         105   \n",
       "10  11767  2018-06-01    NLO12  other          336         1           0   \n",
       "\n",
       "    performance  \n",
       "0          1.00  \n",
       "1          0.94  \n",
       "2          1.00  \n",
       "3          0.99  \n",
       "4          1.00  \n",
       "5          0.95  \n",
       "6          0.92  \n",
       "7          0.81  \n",
       "8          1.00  \n",
       "9          1.00  \n",
       "10         1.00  "
      ]
     },
     "execution_count": 1,
     "metadata": {},
     "output_type": "execute_result"
    }
   ],
   "source": [
    "#Load the 'pandas' package\n",
    "import pandas as pd\n",
    "testData=pd.read_csv(\"../Data/ae_attendances_ENG_4hr_perfom_test_full.csv\")\n",
    "testData"
   ]
  },
  {
   "cell_type": "markdown",
   "id": "specific-location",
   "metadata": {},
   "source": [
    "#### Data type\n",
    "We now need to check the data type in the testData data frame. Let us use the `dtypes` function from the Python *pandas* package to query the data types in the testData. The `dtypes` function returns the data types in the data frame."
   ]
  },
  {
   "cell_type": "code",
   "execution_count": 2,
   "id": "friendly-pennsylvania",
   "metadata": {
    "tags": [
     "hide-input"
    ]
   },
   "outputs": [
    {
     "name": "stdout",
     "output_type": "stream",
     "text": [
      "Output:\n",
      "index            int64\n",
      "period          object\n",
      "org_code        object\n",
      "type            object\n",
      "attendances      int64\n",
      "breaches         int64\n",
      "admissions       int64\n",
      "performance    float64\n",
      "dtype: object\n"
     ]
    }
   ],
   "source": [
    "result = testData.dtypes\n",
    "print(\"Output:\")\n",
    "print(result)"
   ]
  },
  {
   "cell_type": "markdown",
   "id": "broken-consciousness",
   "metadata": {},
   "source": [
    "The data type object is a string"
   ]
  },
  {
   "cell_type": "markdown",
   "id": "illegal-weekend",
   "metadata": {},
   "source": [
    "Now let us collect the first row of data from the test data. \n",
    "Use the `df.head()` function to see the first row in the data frame(df).\n",
    "\n",
    "##### The `head()` function\n",
    "The `head()` function lets you look at the top n rows of a data frame. By default, it shows the first five rows in a data frame. We can specify the number of rows we want to see in a data frame with the argument “n”. For example, look at the first row (n=1) of the test data:"
   ]
  },
  {
   "cell_type": "code",
   "execution_count": 3,
   "id": "separated-bottle",
   "metadata": {},
   "outputs": [
    {
     "data": {
      "text/html": [
       "<div>\n",
       "<style scoped>\n",
       "    .dataframe tbody tr th:only-of-type {\n",
       "        vertical-align: middle;\n",
       "    }\n",
       "\n",
       "    .dataframe tbody tr th {\n",
       "        vertical-align: top;\n",
       "    }\n",
       "\n",
       "    .dataframe thead th {\n",
       "        text-align: right;\n",
       "    }\n",
       "</style>\n",
       "<table border=\"1\" class=\"dataframe\">\n",
       "  <thead>\n",
       "    <tr style=\"text-align: right;\">\n",
       "      <th></th>\n",
       "      <th>index</th>\n",
       "      <th>period</th>\n",
       "      <th>org_code</th>\n",
       "      <th>type</th>\n",
       "      <th>attendances</th>\n",
       "      <th>breaches</th>\n",
       "      <th>admissions</th>\n",
       "      <th>performance</th>\n",
       "    </tr>\n",
       "  </thead>\n",
       "  <tbody>\n",
       "    <tr>\n",
       "      <th>0</th>\n",
       "      <td>1155</td>\n",
       "      <td>2016-12-01</td>\n",
       "      <td>C82010</td>\n",
       "      <td>other</td>\n",
       "      <td>200</td>\n",
       "      <td>0</td>\n",
       "      <td>0</td>\n",
       "      <td>1.0</td>\n",
       "    </tr>\n",
       "  </tbody>\n",
       "</table>\n",
       "</div>"
      ],
      "text/plain": [
       "   index      period org_code   type  attendances  breaches  admissions  \\\n",
       "0   1155  2016-12-01   C82010  other          200         0           0   \n",
       "\n",
       "   performance  \n",
       "0          1.0  "
      ]
     },
     "execution_count": 3,
     "metadata": {},
     "output_type": "execute_result"
    }
   ],
   "source": [
    "testData.head(n=1)"
   ]
  },
  {
   "cell_type": "markdown",
   "id": "hydraulic-checkout",
   "metadata": {},
   "source": [
    "We need to set up an empty data frame in the working data folder to collect the data captured by the Juypter widgets."
   ]
  },
  {
   "cell_type": "code",
   "execution_count": 4,
   "id": "residential-index",
   "metadata": {
    "tags": [
     "hide-input"
    ]
   },
   "outputs": [
    {
     "data": {
      "text/html": [
       "<div>\n",
       "<style scoped>\n",
       "    .dataframe tbody tr th:only-of-type {\n",
       "        vertical-align: middle;\n",
       "    }\n",
       "\n",
       "    .dataframe tbody tr th {\n",
       "        vertical-align: top;\n",
       "    }\n",
       "\n",
       "    .dataframe thead th {\n",
       "        text-align: right;\n",
       "    }\n",
       "</style>\n",
       "<table border=\"1\" class=\"dataframe\">\n",
       "  <thead>\n",
       "    <tr style=\"text-align: right;\">\n",
       "      <th></th>\n",
       "      <th>index</th>\n",
       "      <th>period</th>\n",
       "      <th>org_code</th>\n",
       "      <th>type</th>\n",
       "      <th>attendances</th>\n",
       "      <th>breaches</th>\n",
       "      <th>admissions</th>\n",
       "      <th>performance</th>\n",
       "      <th>consent</th>\n",
       "    </tr>\n",
       "  </thead>\n",
       "  <tbody>\n",
       "    <tr>\n",
       "      <th>0</th>\n",
       "      <td>0</td>\n",
       "      <td>2000-01-01</td>\n",
       "      <td>NA</td>\n",
       "      <td>NA</td>\n",
       "      <td>0</td>\n",
       "      <td>0</td>\n",
       "      <td>0</td>\n",
       "      <td>0.0</td>\n",
       "      <td>False</td>\n",
       "    </tr>\n",
       "  </tbody>\n",
       "</table>\n",
       "</div>"
      ],
      "text/plain": [
       "   index     period org_code type  attendances  breaches  admissions  \\\n",
       "0      0 2000-01-01       NA   NA            0         0           0   \n",
       "\n",
       "   performance  consent  \n",
       "0          0.0    False  "
      ]
     },
     "execution_count": 4,
     "metadata": {},
     "output_type": "execute_result"
    }
   ],
   "source": [
    "dfTofill = pd.DataFrame({'index': [0],# Integer\n",
    "                   'period': [pd.Timestamp('20000101')], # Date\n",
    "                   'org_code': ['NA'], # String\n",
    "                   'type': ['NA'], # String\n",
    "                   'attendances': [0], # Integer\n",
    "                   'breaches': [0], # Integer\n",
    "                   'admissions': [0], # Integer\n",
    "                   'performance': [0.0], # Float\n",
    "                   'consent': [False]}) # Boolean \n",
    "\n",
    "dfTofill"
   ]
  },
  {
   "cell_type": "markdown",
   "id": "located-recruitment",
   "metadata": {},
   "source": [
    "Save the empty data frame to your working 'Data' folder:"
   ]
  },
  {
   "cell_type": "code",
   "execution_count": 5,
   "id": "animated-envelope",
   "metadata": {
    "tags": [
     "hide-input"
    ]
   },
   "outputs": [],
   "source": [
    "#dfTofill.to_csv('../Data/CollectedData.csv', index=False)"
   ]
  },
  {
   "cell_type": "markdown",
   "id": "spiritual-comparative",
   "metadata": {},
   "source": [
    "The empty data frame is now saved to the working 'Data' folder. Now make sure to comment out the last cell (Ctrl+/), as you only need to do this once. Now let's read in the empty data frame to collect the data from the Jupyter-widgets."
   ]
  },
  {
   "cell_type": "code",
   "execution_count": 6,
   "id": "quantitative-wholesale",
   "metadata": {},
   "outputs": [
    {
     "data": {
      "text/html": [
       "<div>\n",
       "<style scoped>\n",
       "    .dataframe tbody tr th:only-of-type {\n",
       "        vertical-align: middle;\n",
       "    }\n",
       "\n",
       "    .dataframe tbody tr th {\n",
       "        vertical-align: top;\n",
       "    }\n",
       "\n",
       "    .dataframe thead th {\n",
       "        text-align: right;\n",
       "    }\n",
       "</style>\n",
       "<table border=\"1\" class=\"dataframe\">\n",
       "  <thead>\n",
       "    <tr style=\"text-align: right;\">\n",
       "      <th></th>\n",
       "      <th>index</th>\n",
       "      <th>period</th>\n",
       "      <th>org_code</th>\n",
       "      <th>type</th>\n",
       "      <th>attendances</th>\n",
       "      <th>breaches</th>\n",
       "      <th>admissions</th>\n",
       "      <th>performance</th>\n",
       "      <th>consent</th>\n",
       "    </tr>\n",
       "  </thead>\n",
       "  <tbody>\n",
       "    <tr>\n",
       "      <th>0</th>\n",
       "      <td>1155</td>\n",
       "      <td>2016-12-01</td>\n",
       "      <td>C82010</td>\n",
       "      <td>other</td>\n",
       "      <td>200</td>\n",
       "      <td>0</td>\n",
       "      <td>0</td>\n",
       "      <td>1.0</td>\n",
       "      <td>True</td>\n",
       "    </tr>\n",
       "  </tbody>\n",
       "</table>\n",
       "</div>"
      ],
      "text/plain": [
       "   index      period org_code   type  attendances  breaches  admissions  \\\n",
       "0   1155  2016-12-01   C82010  other          200         0           0   \n",
       "\n",
       "   performance  consent  \n",
       "0          1.0     True  "
      ]
     },
     "execution_count": 6,
     "metadata": {},
     "output_type": "execute_result"
    }
   ],
   "source": [
    "CollectData=pd.read_csv(\"../Data/CollectedData.csv\")\n",
    "CollectData"
   ]
  },
  {
   "cell_type": "markdown",
   "id": "monetary-millennium",
   "metadata": {},
   "source": [
    "Now let us collect the first row of data from the test data. \n",
    "Use the `df.head()` function to see the first row in the data frame(df).\n",
    "\n",
    "##### The `head()` function\n",
    "The `head()` function lets you look at the top n rows of a data frame. By default, it shows the first five rows in a data frame. We can specify the number of rows we want to see in a data frame with the argument “n”. For example, look at the first row (n=1) of the test data:"
   ]
  },
  {
   "cell_type": "code",
   "execution_count": 7,
   "id": "bridal-heart",
   "metadata": {},
   "outputs": [
    {
     "data": {
      "text/html": [
       "<div>\n",
       "<style scoped>\n",
       "    .dataframe tbody tr th:only-of-type {\n",
       "        vertical-align: middle;\n",
       "    }\n",
       "\n",
       "    .dataframe tbody tr th {\n",
       "        vertical-align: top;\n",
       "    }\n",
       "\n",
       "    .dataframe thead th {\n",
       "        text-align: right;\n",
       "    }\n",
       "</style>\n",
       "<table border=\"1\" class=\"dataframe\">\n",
       "  <thead>\n",
       "    <tr style=\"text-align: right;\">\n",
       "      <th></th>\n",
       "      <th>index</th>\n",
       "      <th>period</th>\n",
       "      <th>org_code</th>\n",
       "      <th>type</th>\n",
       "      <th>attendances</th>\n",
       "      <th>breaches</th>\n",
       "      <th>admissions</th>\n",
       "      <th>performance</th>\n",
       "    </tr>\n",
       "  </thead>\n",
       "  <tbody>\n",
       "    <tr>\n",
       "      <th>0</th>\n",
       "      <td>1155</td>\n",
       "      <td>2016-12-01</td>\n",
       "      <td>C82010</td>\n",
       "      <td>other</td>\n",
       "      <td>200</td>\n",
       "      <td>0</td>\n",
       "      <td>0</td>\n",
       "      <td>1.0</td>\n",
       "    </tr>\n",
       "  </tbody>\n",
       "</table>\n",
       "</div>"
      ],
      "text/plain": [
       "   index      period org_code   type  attendances  breaches  admissions  \\\n",
       "0   1155  2016-12-01   C82010  other          200         0           0   \n",
       "\n",
       "   performance  \n",
       "0          1.0  "
      ]
     },
     "execution_count": 7,
     "metadata": {},
     "output_type": "execute_result"
    }
   ],
   "source": [
    "testData.head(n=1)"
   ]
  },
  {
   "cell_type": "markdown",
   "id": "sealed-chemistry",
   "metadata": {},
   "source": [
    "# Index variable \n",
    "The first variable contains the index number, that allows us to connect the test data to the orginal data set \"../RawData/ae_attendances.csv\". We will have to use indexing to to add the index number to the 'dfTofill' file\n",
    "\n",
    "###  Indexing in Python\n",
    "Indexing in Python is a way to refer the individual items by its position. In other words, you can directly access your elements of choice. In Python, objects are “zero-indexed” meaning the position count starts at zero. "
   ]
  },
  {
   "cell_type": "code",
   "execution_count": 8,
   "id": "entire-soundtrack",
   "metadata": {},
   "outputs": [
    {
     "data": {
      "text/html": [
       "<div>\n",
       "<style scoped>\n",
       "    .dataframe tbody tr th:only-of-type {\n",
       "        vertical-align: middle;\n",
       "    }\n",
       "\n",
       "    .dataframe tbody tr th {\n",
       "        vertical-align: top;\n",
       "    }\n",
       "\n",
       "    .dataframe thead th {\n",
       "        text-align: right;\n",
       "    }\n",
       "</style>\n",
       "<table border=\"1\" class=\"dataframe\">\n",
       "  <thead>\n",
       "    <tr style=\"text-align: right;\">\n",
       "      <th></th>\n",
       "      <th>index</th>\n",
       "      <th>period</th>\n",
       "      <th>org_code</th>\n",
       "      <th>type</th>\n",
       "      <th>attendances</th>\n",
       "      <th>breaches</th>\n",
       "      <th>admissions</th>\n",
       "      <th>performance</th>\n",
       "      <th>consent</th>\n",
       "    </tr>\n",
       "  </thead>\n",
       "  <tbody>\n",
       "    <tr>\n",
       "      <th>0</th>\n",
       "      <td>1155</td>\n",
       "      <td>2000-01-01</td>\n",
       "      <td>NA</td>\n",
       "      <td>NA</td>\n",
       "      <td>0</td>\n",
       "      <td>0</td>\n",
       "      <td>0</td>\n",
       "      <td>0.0</td>\n",
       "      <td>False</td>\n",
       "    </tr>\n",
       "  </tbody>\n",
       "</table>\n",
       "</div>"
      ],
      "text/plain": [
       "   index     period org_code type  attendances  breaches  admissions  \\\n",
       "0   1155 2000-01-01       NA   NA            0         0           0   \n",
       "\n",
       "   performance  consent  \n",
       "0          0.0    False  "
      ]
     },
     "execution_count": 8,
     "metadata": {},
     "output_type": "execute_result"
    }
   ],
   "source": [
    "index_number=1155 #Remember to change for each record.\n",
    "dfTofill.iloc[0,0]=index_number\n",
    "dfTofill"
   ]
  },
  {
   "cell_type": "markdown",
   "id": "attempted-understanding",
   "metadata": {},
   "source": [
    "# Widgets\n",
    "Widgets are interactive Python objects that have a representation in the browser. A widget is a graphical user interface element, such as a button, dropdown or textbox. Widgets can be embedded in the Notebook and provide a user-friendly interface to collect the user input and see the impact the changes have on the data/results without interacting with your code. Widgets can transform your notebooks from static documents to dynamic dashboards, ideal for showcasing your data story.\n",
    "\n",
    "To use the widget framework, you need to import the *ipywidgets* Python package. The *ipywidgets* package provides a list of widgets commonly used in web apps and dashboards like dropdown, checkbox, radio buttons, etc."
   ]
  },
  {
   "cell_type": "code",
   "execution_count": 9,
   "id": "accredited-contrary",
   "metadata": {},
   "outputs": [],
   "source": [
    "#Load the 'ipywidgets' package\n",
    "import ipywidgets as widgets"
   ]
  },
  {
   "cell_type": "markdown",
   "id": "adjusted-medium",
   "metadata": {},
   "source": [
    "### `display()`\n",
    "\n",
    "The *IPython.display* package is used to display different objects in Jupyter. \n",
    "You can also explicitly display a widget using the `display()` function from the *IPython.display* package"
   ]
  },
  {
   "cell_type": "code",
   "execution_count": 10,
   "id": "numerous-constitution",
   "metadata": {},
   "outputs": [],
   "source": [
    "#Load the 'IPython.display' package\n",
    "from IPython.display import display"
   ]
  },
  {
   "cell_type": "markdown",
   "id": "covered-effects",
   "metadata": {},
   "source": [
    "# Consent\n",
    "Consent is a vital area for data protection compliance. Consent means giving data subjects genuine choice and control over how you process their data. If the data subject has no real choice, consent is not freely given, and it will be invalid. The [General Data Protection Regulation](https://eu01.alma.exlibrisgroup.com/leganto/public/44UOE_INST/citation/37632538310002466?auth=SAML) sets a high standard for consent and contains significantly more detail than previous data protection legislation. Consent is defined in Article 4 as: “Consent of the data subject means any freely given, specific informed and unambiguous indication of the data subject’s wishes by which he or she, by a statement or by a clear affirmative action, signifies agreement to the processing of personal data relating to him or her”.\n",
    "\n",
    "Before we collect any data, we need to get consent from the end-user to process and share the data we will collect with the data capture tool."
   ]
  },
  {
   "cell_type": "markdown",
   "id": "union-gnome",
   "metadata": {},
   "source": [
    "## Boolean widgets\n",
    "Boolean widgets are designed to display a boolean value.\n",
    "\n",
    "### Checkbox widget"
   ]
  },
  {
   "cell_type": "code",
   "execution_count": 11,
   "id": "impaired-justice",
   "metadata": {
    "tags": [
     "hide-input"
    ]
   },
   "outputs": [],
   "source": [
    "a = widgets.Checkbox(\n",
    "    value=False,\n",
    "    description='I consent for the data I have provided to be processed and shared in accordance with data protection regulations with the purpose of improving care service provision across the UK.',\n",
    "    disabled=False\n",
    ")"
   ]
  },
  {
   "cell_type": "code",
   "execution_count": 12,
   "id": "compact-worship",
   "metadata": {
    "tags": [
     "hide-input"
    ]
   },
   "outputs": [
    {
     "data": {
      "application/vnd.jupyter.widget-view+json": {
       "model_id": "ad9b8177352a48fb89cd3a96e10e5340",
       "version_major": 2,
       "version_minor": 0
      },
      "text/plain": [
       "Checkbox(value=False, description='I consent for the data I have provided to be processed and shared in accord…"
      ]
     },
     "metadata": {},
     "output_type": "display_data"
    }
   ],
   "source": [
    "display(a)"
   ]
  },
  {
   "cell_type": "code",
   "execution_count": 13,
   "id": "comfortable-lighter",
   "metadata": {},
   "outputs": [
    {
     "data": {
      "text/html": [
       "<div>\n",
       "<style scoped>\n",
       "    .dataframe tbody tr th:only-of-type {\n",
       "        vertical-align: middle;\n",
       "    }\n",
       "\n",
       "    .dataframe tbody tr th {\n",
       "        vertical-align: top;\n",
       "    }\n",
       "\n",
       "    .dataframe thead th {\n",
       "        text-align: right;\n",
       "    }\n",
       "</style>\n",
       "<table border=\"1\" class=\"dataframe\">\n",
       "  <thead>\n",
       "    <tr style=\"text-align: right;\">\n",
       "      <th></th>\n",
       "      <th>index</th>\n",
       "      <th>period</th>\n",
       "      <th>org_code</th>\n",
       "      <th>type</th>\n",
       "      <th>attendances</th>\n",
       "      <th>breaches</th>\n",
       "      <th>admissions</th>\n",
       "      <th>performance</th>\n",
       "      <th>consent</th>\n",
       "    </tr>\n",
       "  </thead>\n",
       "  <tbody>\n",
       "    <tr>\n",
       "      <th>0</th>\n",
       "      <td>1155</td>\n",
       "      <td>2000-01-01</td>\n",
       "      <td>NA</td>\n",
       "      <td>NA</td>\n",
       "      <td>0</td>\n",
       "      <td>0</td>\n",
       "      <td>0</td>\n",
       "      <td>0.0</td>\n",
       "      <td>False</td>\n",
       "    </tr>\n",
       "  </tbody>\n",
       "</table>\n",
       "</div>"
      ],
      "text/plain": [
       "   index     period org_code type  attendances  breaches  admissions  \\\n",
       "0   1155 2000-01-01       NA   NA            0         0           0   \n",
       "\n",
       "   performance  consent  \n",
       "0          0.0    False  "
      ]
     },
     "execution_count": 13,
     "metadata": {},
     "output_type": "execute_result"
    }
   ],
   "source": [
    "dfTofill.iloc[0,8]=a.value\n",
    "dfTofill"
   ]
  },
  {
   "cell_type": "markdown",
   "id": "reported-arrest",
   "metadata": {},
   "source": [
    "# The period variable  \n",
    "The period variable includes the month this activity relates to, stored as a date (1st of each month).  \n",
    "\n",
    "#### Data type\n",
    "We now need to check the data type in the testData data frame. Let us use the `dtypes` function from the Python *pandas* package to query the data types in the testData. The `dtypes` function returns the data types in the data frame."
   ]
  },
  {
   "cell_type": "code",
   "execution_count": 14,
   "id": "higher-framework",
   "metadata": {},
   "outputs": [
    {
     "name": "stdout",
     "output_type": "stream",
     "text": [
      "object\n"
     ]
    }
   ],
   "source": [
    "print(result[1])\n",
    "#String data type"
   ]
  },
  {
   "cell_type": "markdown",
   "id": "mature-persian",
   "metadata": {},
   "source": [
    "The data type object is a string."
   ]
  },
  {
   "cell_type": "markdown",
   "id": "continent-camcorder",
   "metadata": {},
   "source": [
    "##### The `head()` function\n",
    "The `head()` function lets you look at the top n rows of a data frame. By default, it shows the first five rows in a data frame. We can specify the number of rows we want to see in a data frame with the argument “n”. For example, look at the first row (n=1) of the test data:"
   ]
  },
  {
   "cell_type": "code",
   "execution_count": 15,
   "id": "reliable-acrobat",
   "metadata": {},
   "outputs": [
    {
     "data": {
      "text/html": [
       "<div>\n",
       "<style scoped>\n",
       "    .dataframe tbody tr th:only-of-type {\n",
       "        vertical-align: middle;\n",
       "    }\n",
       "\n",
       "    .dataframe tbody tr th {\n",
       "        vertical-align: top;\n",
       "    }\n",
       "\n",
       "    .dataframe thead th {\n",
       "        text-align: right;\n",
       "    }\n",
       "</style>\n",
       "<table border=\"1\" class=\"dataframe\">\n",
       "  <thead>\n",
       "    <tr style=\"text-align: right;\">\n",
       "      <th></th>\n",
       "      <th>index</th>\n",
       "      <th>period</th>\n",
       "      <th>org_code</th>\n",
       "      <th>type</th>\n",
       "      <th>attendances</th>\n",
       "      <th>breaches</th>\n",
       "      <th>admissions</th>\n",
       "      <th>performance</th>\n",
       "    </tr>\n",
       "  </thead>\n",
       "  <tbody>\n",
       "    <tr>\n",
       "      <th>0</th>\n",
       "      <td>1155</td>\n",
       "      <td>2016-12-01</td>\n",
       "      <td>C82010</td>\n",
       "      <td>other</td>\n",
       "      <td>200</td>\n",
       "      <td>0</td>\n",
       "      <td>0</td>\n",
       "      <td>1.0</td>\n",
       "    </tr>\n",
       "  </tbody>\n",
       "</table>\n",
       "</div>"
      ],
      "text/plain": [
       "   index      period org_code   type  attendances  breaches  admissions  \\\n",
       "0   1155  2016-12-01   C82010  other          200         0           0   \n",
       "\n",
       "   performance  \n",
       "0          1.0  "
      ]
     },
     "execution_count": 15,
     "metadata": {},
     "output_type": "execute_result"
    }
   ],
   "source": [
    "testData.head(n=1)"
   ]
  },
  {
   "cell_type": "markdown",
   "id": "interpreted-cooper",
   "metadata": {},
   "source": [
    "### DatePicker widget \n",
    "We next need to set up a DatePicker widget to collect the period data."
   ]
  },
  {
   "cell_type": "code",
   "execution_count": 16,
   "id": "coastal-delivery",
   "metadata": {},
   "outputs": [
    {
     "data": {
      "application/vnd.jupyter.widget-view+json": {
       "model_id": "069479395fab4642a52d5b44f6cc6710",
       "version_major": 2,
       "version_minor": 0
      },
      "text/plain": [
       "DatePicker(value=None, description='Period')"
      ]
     },
     "metadata": {},
     "output_type": "display_data"
    }
   ],
   "source": [
    "b = widgets.DatePicker(\n",
    "    description='Period',\n",
    "    disabled=False\n",
    ")\n",
    "display(b)"
   ]
  },
  {
   "cell_type": "code",
   "execution_count": 17,
   "id": "touched-donor",
   "metadata": {
    "tags": [
     "hide-input"
    ]
   },
   "outputs": [
    {
     "data": {
      "text/html": [
       "<div>\n",
       "<style scoped>\n",
       "    .dataframe tbody tr th:only-of-type {\n",
       "        vertical-align: middle;\n",
       "    }\n",
       "\n",
       "    .dataframe tbody tr th {\n",
       "        vertical-align: top;\n",
       "    }\n",
       "\n",
       "    .dataframe thead th {\n",
       "        text-align: right;\n",
       "    }\n",
       "</style>\n",
       "<table border=\"1\" class=\"dataframe\">\n",
       "  <thead>\n",
       "    <tr style=\"text-align: right;\">\n",
       "      <th></th>\n",
       "      <th>index</th>\n",
       "      <th>period</th>\n",
       "      <th>org_code</th>\n",
       "      <th>type</th>\n",
       "      <th>attendances</th>\n",
       "      <th>breaches</th>\n",
       "      <th>admissions</th>\n",
       "      <th>performance</th>\n",
       "      <th>consent</th>\n",
       "    </tr>\n",
       "  </thead>\n",
       "  <tbody>\n",
       "    <tr>\n",
       "      <th>0</th>\n",
       "      <td>1155</td>\n",
       "      <td>NaT</td>\n",
       "      <td>NA</td>\n",
       "      <td>NA</td>\n",
       "      <td>0</td>\n",
       "      <td>0</td>\n",
       "      <td>0</td>\n",
       "      <td>0.0</td>\n",
       "      <td>False</td>\n",
       "    </tr>\n",
       "  </tbody>\n",
       "</table>\n",
       "</div>"
      ],
      "text/plain": [
       "   index period org_code type  attendances  breaches  admissions  performance  \\\n",
       "0   1155    NaT       NA   NA            0         0           0          0.0   \n",
       "\n",
       "   consent  \n",
       "0    False  "
      ]
     },
     "execution_count": 17,
     "metadata": {},
     "output_type": "execute_result"
    }
   ],
   "source": [
    "dfTofill.iloc[0,1]=b.value\n",
    "dfTofill"
   ]
  },
  {
   "cell_type": "markdown",
   "id": "static-fitness",
   "metadata": {},
   "source": [
    "## The org_code variable\n",
    "The org_code variable includes the Organisation data service (ODS) code for the organisation. The ODS code is a unique code created by the Organisation data service within [NHS Digital](_https://www.digitalsocialcare.co.uk/latest-guidance/how-to-find-your-ods-code/), and used to identify organisations across health and social care. ODS codes are required in order to gain access to national systems like NHSmail and the Data Security and Protection Toolkit. If you want to know the organisation associated with a particular ODS code, you can look it up from the following address: <https://odsportal.digital.nhs.uk/Organisation/Search>. For example, the organisation associated with the ODS code 'AF003' is\n",
    "[Parkway health centre](https://odsportal.digital.nhs.uk/Organisation/OrganisationDetails?organisationId=132839&showOpenChildredOnly=True).      "
   ]
  },
  {
   "cell_type": "markdown",
   "id": "infectious-mistake",
   "metadata": {},
   "source": [
    "#### Data type\n",
    "We now need to check the data type in the testData data frame. Let us use the `dtypes` function from the Python *pandas* package to query the data types in the testData. The `dtypes` function returns the data types in the data frame."
   ]
  },
  {
   "cell_type": "code",
   "execution_count": 18,
   "id": "aware-genetics",
   "metadata": {},
   "outputs": [
    {
     "name": "stdout",
     "output_type": "stream",
     "text": [
      "object\n"
     ]
    }
   ],
   "source": [
    "print(result[2])\n",
    "#String data type"
   ]
  },
  {
   "cell_type": "markdown",
   "id": "thick-sheriff",
   "metadata": {},
   "source": [
    "The data type object is a string.\n",
    "\n",
    "#### Describe the test data\n",
    "Here we are going to use the `describe()` function from the *numpy* Python package to calculate summary statistics for the testData data frame. The numpy package is the core package for scientific computing in Python. The `describe()` function from the *numpy* package computes the descriptive statistics."
   ]
  },
  {
   "cell_type": "code",
   "execution_count": 19,
   "id": "unexpected-devices",
   "metadata": {
    "tags": [
     "hide-input"
    ]
   },
   "outputs": [
    {
     "data": {
      "text/html": [
       "<div>\n",
       "<style scoped>\n",
       "    .dataframe tbody tr th:only-of-type {\n",
       "        vertical-align: middle;\n",
       "    }\n",
       "\n",
       "    .dataframe tbody tr th {\n",
       "        vertical-align: top;\n",
       "    }\n",
       "\n",
       "    .dataframe thead th {\n",
       "        text-align: right;\n",
       "    }\n",
       "</style>\n",
       "<table border=\"1\" class=\"dataframe\">\n",
       "  <thead>\n",
       "    <tr style=\"text-align: right;\">\n",
       "      <th></th>\n",
       "      <th>index</th>\n",
       "      <th>period</th>\n",
       "      <th>org_code</th>\n",
       "      <th>type</th>\n",
       "      <th>attendances</th>\n",
       "      <th>breaches</th>\n",
       "      <th>admissions</th>\n",
       "      <th>performance</th>\n",
       "    </tr>\n",
       "  </thead>\n",
       "  <tbody>\n",
       "    <tr>\n",
       "      <th>count</th>\n",
       "      <td>11.000000</td>\n",
       "      <td>11</td>\n",
       "      <td>11</td>\n",
       "      <td>11</td>\n",
       "      <td>11.000000</td>\n",
       "      <td>11.000000</td>\n",
       "      <td>11.000000</td>\n",
       "      <td>11.000000</td>\n",
       "    </tr>\n",
       "    <tr>\n",
       "      <th>unique</th>\n",
       "      <td>NaN</td>\n",
       "      <td>10</td>\n",
       "      <td>10</td>\n",
       "      <td>3</td>\n",
       "      <td>NaN</td>\n",
       "      <td>NaN</td>\n",
       "      <td>NaN</td>\n",
       "      <td>NaN</td>\n",
       "    </tr>\n",
       "    <tr>\n",
       "      <th>top</th>\n",
       "      <td>NaN</td>\n",
       "      <td>2018-10-01</td>\n",
       "      <td>RQM</td>\n",
       "      <td>other</td>\n",
       "      <td>NaN</td>\n",
       "      <td>NaN</td>\n",
       "      <td>NaN</td>\n",
       "      <td>NaN</td>\n",
       "    </tr>\n",
       "    <tr>\n",
       "      <th>freq</th>\n",
       "      <td>NaN</td>\n",
       "      <td>2</td>\n",
       "      <td>2</td>\n",
       "      <td>5</td>\n",
       "      <td>NaN</td>\n",
       "      <td>NaN</td>\n",
       "      <td>NaN</td>\n",
       "      <td>NaN</td>\n",
       "    </tr>\n",
       "    <tr>\n",
       "      <th>mean</th>\n",
       "      <td>6565.545455</td>\n",
       "      <td>NaN</td>\n",
       "      <td>NaN</td>\n",
       "      <td>NaN</td>\n",
       "      <td>4603.727273</td>\n",
       "      <td>309.000000</td>\n",
       "      <td>774.181818</td>\n",
       "      <td>0.964545</td>\n",
       "    </tr>\n",
       "    <tr>\n",
       "      <th>std</th>\n",
       "      <td>3618.976329</td>\n",
       "      <td>NaN</td>\n",
       "      <td>NaN</td>\n",
       "      <td>NaN</td>\n",
       "      <td>4951.508338</td>\n",
       "      <td>524.261385</td>\n",
       "      <td>1161.917365</td>\n",
       "      <td>0.059053</td>\n",
       "    </tr>\n",
       "    <tr>\n",
       "      <th>min</th>\n",
       "      <td>1155.000000</td>\n",
       "      <td>NaN</td>\n",
       "      <td>NaN</td>\n",
       "      <td>NaN</td>\n",
       "      <td>200.000000</td>\n",
       "      <td>0.000000</td>\n",
       "      <td>0.000000</td>\n",
       "      <td>0.810000</td>\n",
       "    </tr>\n",
       "    <tr>\n",
       "      <th>25%</th>\n",
       "      <td>3810.500000</td>\n",
       "      <td>NaN</td>\n",
       "      <td>NaN</td>\n",
       "      <td>NaN</td>\n",
       "      <td>376.500000</td>\n",
       "      <td>0.000000</td>\n",
       "      <td>0.000000</td>\n",
       "      <td>0.945000</td>\n",
       "    </tr>\n",
       "    <tr>\n",
       "      <th>50%</th>\n",
       "      <td>7243.000000</td>\n",
       "      <td>NaN</td>\n",
       "      <td>NaN</td>\n",
       "      <td>NaN</td>\n",
       "      <td>3197.000000</td>\n",
       "      <td>8.000000</td>\n",
       "      <td>6.000000</td>\n",
       "      <td>1.000000</td>\n",
       "    </tr>\n",
       "    <tr>\n",
       "      <th>75%</th>\n",
       "      <td>9585.500000</td>\n",
       "      <td>NaN</td>\n",
       "      <td>NaN</td>\n",
       "      <td>NaN</td>\n",
       "      <td>6855.000000</td>\n",
       "      <td>297.500000</td>\n",
       "      <td>1541.500000</td>\n",
       "      <td>1.000000</td>\n",
       "    </tr>\n",
       "    <tr>\n",
       "      <th>max</th>\n",
       "      <td>11767.000000</td>\n",
       "      <td>NaN</td>\n",
       "      <td>NaN</td>\n",
       "      <td>NaN</td>\n",
       "      <td>15957.000000</td>\n",
       "      <td>1374.000000</td>\n",
       "      <td>3375.000000</td>\n",
       "      <td>1.000000</td>\n",
       "    </tr>\n",
       "  </tbody>\n",
       "</table>\n",
       "</div>"
      ],
      "text/plain": [
       "               index      period org_code   type   attendances     breaches  \\\n",
       "count      11.000000          11       11     11     11.000000    11.000000   \n",
       "unique           NaN          10       10      3           NaN          NaN   \n",
       "top              NaN  2018-10-01      RQM  other           NaN          NaN   \n",
       "freq             NaN           2        2      5           NaN          NaN   \n",
       "mean     6565.545455         NaN      NaN    NaN   4603.727273   309.000000   \n",
       "std      3618.976329         NaN      NaN    NaN   4951.508338   524.261385   \n",
       "min      1155.000000         NaN      NaN    NaN    200.000000     0.000000   \n",
       "25%      3810.500000         NaN      NaN    NaN    376.500000     0.000000   \n",
       "50%      7243.000000         NaN      NaN    NaN   3197.000000     8.000000   \n",
       "75%      9585.500000         NaN      NaN    NaN   6855.000000   297.500000   \n",
       "max     11767.000000         NaN      NaN    NaN  15957.000000  1374.000000   \n",
       "\n",
       "         admissions  performance  \n",
       "count     11.000000    11.000000  \n",
       "unique          NaN          NaN  \n",
       "top             NaN          NaN  \n",
       "freq            NaN          NaN  \n",
       "mean     774.181818     0.964545  \n",
       "std     1161.917365     0.059053  \n",
       "min        0.000000     0.810000  \n",
       "25%        0.000000     0.945000  \n",
       "50%        6.000000     1.000000  \n",
       "75%     1541.500000     1.000000  \n",
       "max     3375.000000     1.000000  "
      ]
     },
     "execution_count": 19,
     "metadata": {},
     "output_type": "execute_result"
    }
   ],
   "source": [
    "#Load the 'numpy' package\n",
    "import numpy as np\n",
    "testData.describe(include='all')"
   ]
  },
  {
   "cell_type": "markdown",
   "id": "grave-consciousness",
   "metadata": {},
   "source": [
    "#### Applying *pandas* `unique()` function\n",
    "We must first use the *pandas* package `unique()` function to get the unique Organisation data service (ODS) codes in the test data."
   ]
  },
  {
   "cell_type": "code",
   "execution_count": 20,
   "id": "lightweight-sweden",
   "metadata": {},
   "outputs": [
    {
     "data": {
      "text/plain": [
       "['C82010', 'RDZ', 'RVR', 'RQM', 'R1F', 'RE9', 'RNL', 'RJ1', 'RKB', 'NLO12']"
      ]
     },
     "execution_count": 20,
     "metadata": {},
     "output_type": "execute_result"
    }
   ],
   "source": [
    "org_code=list(testData['org_code'].unique())\n",
    "org_code"
   ]
  },
  {
   "cell_type": "markdown",
   "id": "actual-eclipse",
   "metadata": {},
   "source": [
    "##### The `head()` function\n",
    "The `head()` function lets you look at the top n rows of a data frame. By default, it shows the first five rows in a data frame. We can specify the number of rows we want to see in a data frame with the argument “n”. For example, look at the first row (n=1) of the test data:"
   ]
  },
  {
   "cell_type": "code",
   "execution_count": 21,
   "id": "corrected-cover",
   "metadata": {},
   "outputs": [
    {
     "data": {
      "text/html": [
       "<div>\n",
       "<style scoped>\n",
       "    .dataframe tbody tr th:only-of-type {\n",
       "        vertical-align: middle;\n",
       "    }\n",
       "\n",
       "    .dataframe tbody tr th {\n",
       "        vertical-align: top;\n",
       "    }\n",
       "\n",
       "    .dataframe thead th {\n",
       "        text-align: right;\n",
       "    }\n",
       "</style>\n",
       "<table border=\"1\" class=\"dataframe\">\n",
       "  <thead>\n",
       "    <tr style=\"text-align: right;\">\n",
       "      <th></th>\n",
       "      <th>index</th>\n",
       "      <th>period</th>\n",
       "      <th>org_code</th>\n",
       "      <th>type</th>\n",
       "      <th>attendances</th>\n",
       "      <th>breaches</th>\n",
       "      <th>admissions</th>\n",
       "      <th>performance</th>\n",
       "    </tr>\n",
       "  </thead>\n",
       "  <tbody>\n",
       "    <tr>\n",
       "      <th>0</th>\n",
       "      <td>1155</td>\n",
       "      <td>2016-12-01</td>\n",
       "      <td>C82010</td>\n",
       "      <td>other</td>\n",
       "      <td>200</td>\n",
       "      <td>0</td>\n",
       "      <td>0</td>\n",
       "      <td>1.0</td>\n",
       "    </tr>\n",
       "  </tbody>\n",
       "</table>\n",
       "</div>"
      ],
      "text/plain": [
       "   index      period org_code   type  attendances  breaches  admissions  \\\n",
       "0   1155  2016-12-01   C82010  other          200         0           0   \n",
       "\n",
       "   performance  \n",
       "0          1.0  "
      ]
     },
     "execution_count": 21,
     "metadata": {},
     "output_type": "execute_result"
    }
   ],
   "source": [
    "testData.head(n=1)"
   ]
  },
  {
   "cell_type": "markdown",
   "id": "amateur-princess",
   "metadata": {},
   "source": [
    "## Selection widgets\n",
    "Several widgets can be used to display single selection lists. You can specify the selectable options by passing a list.  "
   ]
  },
  {
   "cell_type": "code",
   "execution_count": 22,
   "id": "vocational-thursday",
   "metadata": {},
   "outputs": [
    {
     "data": {
      "application/vnd.jupyter.widget-view+json": {
       "model_id": "506fc04aec314afa9df4ab0c7a7ff93c",
       "version_major": 2,
       "version_minor": 0
      },
      "text/plain": [
       "Select(description='ODS code:', options=('C82010', 'RDZ', 'RVR', 'RQM', 'R1F', 'RE9', 'RNL', 'RJ1', 'RKB', 'NL…"
      ]
     },
     "metadata": {},
     "output_type": "display_data"
    }
   ],
   "source": [
    "c=widgets.Select(\n",
    "    options=org_code,\n",
    "    value='C82010',\n",
    "    rows=len(org_code),\n",
    "    description='ODS code:',\n",
    "    disabled=False\n",
    ")\n",
    "display(c)"
   ]
  },
  {
   "cell_type": "code",
   "execution_count": 23,
   "id": "public-absence",
   "metadata": {},
   "outputs": [
    {
     "data": {
      "text/html": [
       "<div>\n",
       "<style scoped>\n",
       "    .dataframe tbody tr th:only-of-type {\n",
       "        vertical-align: middle;\n",
       "    }\n",
       "\n",
       "    .dataframe tbody tr th {\n",
       "        vertical-align: top;\n",
       "    }\n",
       "\n",
       "    .dataframe thead th {\n",
       "        text-align: right;\n",
       "    }\n",
       "</style>\n",
       "<table border=\"1\" class=\"dataframe\">\n",
       "  <thead>\n",
       "    <tr style=\"text-align: right;\">\n",
       "      <th></th>\n",
       "      <th>index</th>\n",
       "      <th>period</th>\n",
       "      <th>org_code</th>\n",
       "      <th>type</th>\n",
       "      <th>attendances</th>\n",
       "      <th>breaches</th>\n",
       "      <th>admissions</th>\n",
       "      <th>performance</th>\n",
       "      <th>consent</th>\n",
       "    </tr>\n",
       "  </thead>\n",
       "  <tbody>\n",
       "    <tr>\n",
       "      <th>0</th>\n",
       "      <td>1155</td>\n",
       "      <td>NaT</td>\n",
       "      <td>C82010</td>\n",
       "      <td>NA</td>\n",
       "      <td>0</td>\n",
       "      <td>0</td>\n",
       "      <td>0</td>\n",
       "      <td>0.0</td>\n",
       "      <td>False</td>\n",
       "    </tr>\n",
       "  </tbody>\n",
       "</table>\n",
       "</div>"
      ],
      "text/plain": [
       "   index period org_code type  attendances  breaches  admissions  performance  \\\n",
       "0   1155    NaT   C82010   NA            0         0           0          0.0   \n",
       "\n",
       "   consent  \n",
       "0    False  "
      ]
     },
     "execution_count": 23,
     "metadata": {},
     "output_type": "execute_result"
    }
   ],
   "source": [
    "dfTofill.iloc[0,2]=c.value\n",
    "dfTofill"
   ]
  },
  {
   "cell_type": "markdown",
   "id": "desirable-convenience",
   "metadata": {},
   "source": [
    "## The type variable\n",
    "The type variable contains the department type for this activity, either  \n",
    "* **1:** Emergency departments are a consultant-led 24-hour service with full resuscitation facilities and designated accommodation for the reception of accident and emergency patients,  \n",
    "* **2:** Consultant-led mono speciality accident and emergency service (e.g. ophthalmology, dental) with designated accommodation for the reception of patients, or  \n",
    "* **other:** Other type of A&E/minor injury activity with designated accommodation for the reception of accident and emergency patients. The department may be doctor-led or nurse-led and treats at least minor injuries and illnesses and can be routinely accessed without an appointment. A service mainly or entirely appointment-based (for example, a GP Practice or Outpatient clinic) is excluded even though it may treat a number of patients with minor illnesses or injury. Excludes NHS walk-in centres.[(National Health Service, 2020)](https://eu01.alma.exlibrisgroup.com/leganto/public/44UOE_INST/citation/37459630310002466?auth=SAML)"
   ]
  },
  {
   "cell_type": "markdown",
   "id": "bright-newman",
   "metadata": {},
   "source": [
    "#### Data type\n",
    "We now need to check the data type in the testData data frame. Let us use the `dtypes` function from the Python *pandas* package to query the data types in the testData. The `dtypes` function returns the data types in the data frame."
   ]
  },
  {
   "cell_type": "code",
   "execution_count": 24,
   "id": "south-worse",
   "metadata": {},
   "outputs": [
    {
     "name": "stdout",
     "output_type": "stream",
     "text": [
      "object\n"
     ]
    }
   ],
   "source": [
    "print(result[3])\n",
    "#String data type"
   ]
  },
  {
   "cell_type": "markdown",
   "id": "beneficial-optimization",
   "metadata": {},
   "source": [
    "The data type object is a string."
   ]
  },
  {
   "cell_type": "markdown",
   "id": "pharmaceutical-session",
   "metadata": {},
   "source": [
    "#### Applying *pandas* `unique()` function\n",
    "We must first use the *pandas* package `unique()` function to get the unique department type in the test data."
   ]
  },
  {
   "cell_type": "code",
   "execution_count": 25,
   "id": "fantastic-despite",
   "metadata": {},
   "outputs": [
    {
     "data": {
      "text/plain": [
       "['other', '1', '2']"
      ]
     },
     "execution_count": 25,
     "metadata": {},
     "output_type": "execute_result"
    }
   ],
   "source": [
    "type=list(testData['type'].unique())\n",
    "type"
   ]
  },
  {
   "cell_type": "markdown",
   "id": "micro-school",
   "metadata": {},
   "source": [
    "##### The `head()` function\n",
    "The `head()` function lets you look at the top n rows of a data frame. By default, it shows the first five rows in a data frame. We can specify the number of rows we want to see in a data frame with the argument “n”. For example, look at the first row (n=1) of the test data:"
   ]
  },
  {
   "cell_type": "code",
   "execution_count": 26,
   "id": "physical-corner",
   "metadata": {},
   "outputs": [
    {
     "data": {
      "text/html": [
       "<div>\n",
       "<style scoped>\n",
       "    .dataframe tbody tr th:only-of-type {\n",
       "        vertical-align: middle;\n",
       "    }\n",
       "\n",
       "    .dataframe tbody tr th {\n",
       "        vertical-align: top;\n",
       "    }\n",
       "\n",
       "    .dataframe thead th {\n",
       "        text-align: right;\n",
       "    }\n",
       "</style>\n",
       "<table border=\"1\" class=\"dataframe\">\n",
       "  <thead>\n",
       "    <tr style=\"text-align: right;\">\n",
       "      <th></th>\n",
       "      <th>index</th>\n",
       "      <th>period</th>\n",
       "      <th>org_code</th>\n",
       "      <th>type</th>\n",
       "      <th>attendances</th>\n",
       "      <th>breaches</th>\n",
       "      <th>admissions</th>\n",
       "      <th>performance</th>\n",
       "    </tr>\n",
       "  </thead>\n",
       "  <tbody>\n",
       "    <tr>\n",
       "      <th>0</th>\n",
       "      <td>1155</td>\n",
       "      <td>2016-12-01</td>\n",
       "      <td>C82010</td>\n",
       "      <td>other</td>\n",
       "      <td>200</td>\n",
       "      <td>0</td>\n",
       "      <td>0</td>\n",
       "      <td>1.0</td>\n",
       "    </tr>\n",
       "  </tbody>\n",
       "</table>\n",
       "</div>"
      ],
      "text/plain": [
       "   index      period org_code   type  attendances  breaches  admissions  \\\n",
       "0   1155  2016-12-01   C82010  other          200         0           0   \n",
       "\n",
       "   performance  \n",
       "0          1.0  "
      ]
     },
     "execution_count": 26,
     "metadata": {},
     "output_type": "execute_result"
    }
   ],
   "source": [
    "testData.head(n=1)"
   ]
  },
  {
   "cell_type": "markdown",
   "id": "legendary-reading",
   "metadata": {},
   "source": [
    "### RadioButtons"
   ]
  },
  {
   "cell_type": "code",
   "execution_count": 27,
   "id": "virgin-commonwealth",
   "metadata": {},
   "outputs": [
    {
     "data": {
      "application/vnd.jupyter.widget-view+json": {
       "model_id": "a709fd1fa8bc412f954216e2ff70b246",
       "version_major": 2,
       "version_minor": 0
      },
      "text/plain": [
       "RadioButtons(description='Type:', options=('other', '1', '2'), value='other')"
      ]
     },
     "metadata": {},
     "output_type": "display_data"
    }
   ],
   "source": [
    "d=widgets.RadioButtons(\n",
    "    options=type,\n",
    "#     value='other',\n",
    "    description='Type:',\n",
    "    disabled=False\n",
    ")\n",
    "display(d)"
   ]
  },
  {
   "cell_type": "code",
   "execution_count": 28,
   "id": "eleven-penetration",
   "metadata": {},
   "outputs": [
    {
     "data": {
      "text/html": [
       "<div>\n",
       "<style scoped>\n",
       "    .dataframe tbody tr th:only-of-type {\n",
       "        vertical-align: middle;\n",
       "    }\n",
       "\n",
       "    .dataframe tbody tr th {\n",
       "        vertical-align: top;\n",
       "    }\n",
       "\n",
       "    .dataframe thead th {\n",
       "        text-align: right;\n",
       "    }\n",
       "</style>\n",
       "<table border=\"1\" class=\"dataframe\">\n",
       "  <thead>\n",
       "    <tr style=\"text-align: right;\">\n",
       "      <th></th>\n",
       "      <th>index</th>\n",
       "      <th>period</th>\n",
       "      <th>org_code</th>\n",
       "      <th>type</th>\n",
       "      <th>attendances</th>\n",
       "      <th>breaches</th>\n",
       "      <th>admissions</th>\n",
       "      <th>performance</th>\n",
       "      <th>consent</th>\n",
       "    </tr>\n",
       "  </thead>\n",
       "  <tbody>\n",
       "    <tr>\n",
       "      <th>0</th>\n",
       "      <td>1155</td>\n",
       "      <td>NaT</td>\n",
       "      <td>C82010</td>\n",
       "      <td>other</td>\n",
       "      <td>0</td>\n",
       "      <td>0</td>\n",
       "      <td>0</td>\n",
       "      <td>0.0</td>\n",
       "      <td>False</td>\n",
       "    </tr>\n",
       "  </tbody>\n",
       "</table>\n",
       "</div>"
      ],
      "text/plain": [
       "   index period org_code   type  attendances  breaches  admissions  \\\n",
       "0   1155    NaT   C82010  other            0         0           0   \n",
       "\n",
       "   performance  consent  \n",
       "0          0.0    False  "
      ]
     },
     "execution_count": 28,
     "metadata": {},
     "output_type": "execute_result"
    }
   ],
   "source": [
    "dfTofill.iloc[0,3]=d.value\n",
    "dfTofill"
   ]
  },
  {
   "cell_type": "markdown",
   "id": "auburn-correspondence",
   "metadata": {},
   "source": [
    "# The attendances variable\n",
    "The attendances variable includes the number of attendances for this department type at this organisation for this month."
   ]
  },
  {
   "cell_type": "markdown",
   "id": "ideal-wisdom",
   "metadata": {},
   "source": [
    "#### Data type\n",
    "We now need to check the data type in the testData data frame. Let us use the `dtypes` function from the Python *pandas* package to query the data types in the testData. The `dtypes` function returns the data types in the data frame."
   ]
  },
  {
   "cell_type": "code",
   "execution_count": 29,
   "id": "conditional-channels",
   "metadata": {},
   "outputs": [
    {
     "name": "stdout",
     "output_type": "stream",
     "text": [
      "int64\n"
     ]
    }
   ],
   "source": [
    "print(result[4])"
   ]
  },
  {
   "cell_type": "markdown",
   "id": "flexible-generator",
   "metadata": {},
   "source": [
    "##### The `head()` function\n",
    "The `head()` function lets you look at the top n rows of a data frame. By default, it shows the first five rows in a data frame. We can specify the number of rows we want to see in a data frame with the argument “n”. For example, look at the first row (n=1) of the test data:"
   ]
  },
  {
   "cell_type": "code",
   "execution_count": 30,
   "id": "atlantic-female",
   "metadata": {},
   "outputs": [
    {
     "data": {
      "text/html": [
       "<div>\n",
       "<style scoped>\n",
       "    .dataframe tbody tr th:only-of-type {\n",
       "        vertical-align: middle;\n",
       "    }\n",
       "\n",
       "    .dataframe tbody tr th {\n",
       "        vertical-align: top;\n",
       "    }\n",
       "\n",
       "    .dataframe thead th {\n",
       "        text-align: right;\n",
       "    }\n",
       "</style>\n",
       "<table border=\"1\" class=\"dataframe\">\n",
       "  <thead>\n",
       "    <tr style=\"text-align: right;\">\n",
       "      <th></th>\n",
       "      <th>index</th>\n",
       "      <th>period</th>\n",
       "      <th>org_code</th>\n",
       "      <th>type</th>\n",
       "      <th>attendances</th>\n",
       "      <th>breaches</th>\n",
       "      <th>admissions</th>\n",
       "      <th>performance</th>\n",
       "    </tr>\n",
       "  </thead>\n",
       "  <tbody>\n",
       "    <tr>\n",
       "      <th>0</th>\n",
       "      <td>1155</td>\n",
       "      <td>2016-12-01</td>\n",
       "      <td>C82010</td>\n",
       "      <td>other</td>\n",
       "      <td>200</td>\n",
       "      <td>0</td>\n",
       "      <td>0</td>\n",
       "      <td>1.0</td>\n",
       "    </tr>\n",
       "  </tbody>\n",
       "</table>\n",
       "</div>"
      ],
      "text/plain": [
       "   index      period org_code   type  attendances  breaches  admissions  \\\n",
       "0   1155  2016-12-01   C82010  other          200         0           0   \n",
       "\n",
       "   performance  \n",
       "0          1.0  "
      ]
     },
     "execution_count": 30,
     "metadata": {},
     "output_type": "execute_result"
    }
   ],
   "source": [
    "testData.head(n=1)"
   ]
  },
  {
   "cell_type": "markdown",
   "id": "civil-excess",
   "metadata": {},
   "source": [
    "## Numeric widgets\n",
    "There are many widgets distributed with ipywidgets that are designed to display numeric values. Widgets exist for displaying integers and floats, both bounded and unbounded. The integer widgets share a similar naming scheme to their floating point counterparts. By replacing Float with Int in the widget name, you can find the Integer equivalent.\n",
    "\n",
    "### IntText"
   ]
  },
  {
   "cell_type": "code",
   "execution_count": 31,
   "id": "coupled-optimum",
   "metadata": {},
   "outputs": [
    {
     "data": {
      "application/vnd.jupyter.widget-view+json": {
       "model_id": "c5d64e28c82b4133891cb3f2d06ad10e",
       "version_major": 2,
       "version_minor": 0
      },
      "text/plain": [
       "IntText(value=0, description='Attendances:')"
      ]
     },
     "metadata": {},
     "output_type": "display_data"
    }
   ],
   "source": [
    "e=widgets.IntText(\n",
    "    value=0,\n",
    "    description='Attendances:',\n",
    "    disabled=False)\n",
    "display(e)"
   ]
  },
  {
   "cell_type": "code",
   "execution_count": 32,
   "id": "metallic-token",
   "metadata": {},
   "outputs": [
    {
     "data": {
      "text/html": [
       "<div>\n",
       "<style scoped>\n",
       "    .dataframe tbody tr th:only-of-type {\n",
       "        vertical-align: middle;\n",
       "    }\n",
       "\n",
       "    .dataframe tbody tr th {\n",
       "        vertical-align: top;\n",
       "    }\n",
       "\n",
       "    .dataframe thead th {\n",
       "        text-align: right;\n",
       "    }\n",
       "</style>\n",
       "<table border=\"1\" class=\"dataframe\">\n",
       "  <thead>\n",
       "    <tr style=\"text-align: right;\">\n",
       "      <th></th>\n",
       "      <th>index</th>\n",
       "      <th>period</th>\n",
       "      <th>org_code</th>\n",
       "      <th>type</th>\n",
       "      <th>attendances</th>\n",
       "      <th>breaches</th>\n",
       "      <th>admissions</th>\n",
       "      <th>performance</th>\n",
       "      <th>consent</th>\n",
       "    </tr>\n",
       "  </thead>\n",
       "  <tbody>\n",
       "    <tr>\n",
       "      <th>0</th>\n",
       "      <td>1155</td>\n",
       "      <td>NaT</td>\n",
       "      <td>C82010</td>\n",
       "      <td>other</td>\n",
       "      <td>0</td>\n",
       "      <td>0</td>\n",
       "      <td>0</td>\n",
       "      <td>0.0</td>\n",
       "      <td>False</td>\n",
       "    </tr>\n",
       "  </tbody>\n",
       "</table>\n",
       "</div>"
      ],
      "text/plain": [
       "   index period org_code   type  attendances  breaches  admissions  \\\n",
       "0   1155    NaT   C82010  other            0         0           0   \n",
       "\n",
       "   performance  consent  \n",
       "0          0.0    False  "
      ]
     },
     "execution_count": 32,
     "metadata": {},
     "output_type": "execute_result"
    }
   ],
   "source": [
    "dfTofill.iloc[0,4]=e.value\n",
    "dfTofill"
   ]
  },
  {
   "cell_type": "markdown",
   "id": "radio-cross",
   "metadata": {},
   "source": [
    "# The breaches variable\n",
    "The breaches variable includes the number of attendances that breached the four hour target.   "
   ]
  },
  {
   "cell_type": "markdown",
   "id": "helpful-stephen",
   "metadata": {},
   "source": [
    "#### Data type\n",
    "We now need to check the data type in the testData data frame. Let us use the `dtypes` function from the Python *pandas* package to query the data types in the testData. The `dtypes` function returns the data types in the data frame."
   ]
  },
  {
   "cell_type": "code",
   "execution_count": 33,
   "id": "original-obligation",
   "metadata": {},
   "outputs": [
    {
     "name": "stdout",
     "output_type": "stream",
     "text": [
      "int64\n"
     ]
    }
   ],
   "source": [
    "print(result[5])"
   ]
  },
  {
   "cell_type": "code",
   "execution_count": 34,
   "id": "automotive-rebecca",
   "metadata": {},
   "outputs": [
    {
     "data": {
      "text/html": [
       "<div>\n",
       "<style scoped>\n",
       "    .dataframe tbody tr th:only-of-type {\n",
       "        vertical-align: middle;\n",
       "    }\n",
       "\n",
       "    .dataframe tbody tr th {\n",
       "        vertical-align: top;\n",
       "    }\n",
       "\n",
       "    .dataframe thead th {\n",
       "        text-align: right;\n",
       "    }\n",
       "</style>\n",
       "<table border=\"1\" class=\"dataframe\">\n",
       "  <thead>\n",
       "    <tr style=\"text-align: right;\">\n",
       "      <th></th>\n",
       "      <th>index</th>\n",
       "      <th>period</th>\n",
       "      <th>org_code</th>\n",
       "      <th>type</th>\n",
       "      <th>attendances</th>\n",
       "      <th>breaches</th>\n",
       "      <th>admissions</th>\n",
       "      <th>performance</th>\n",
       "    </tr>\n",
       "  </thead>\n",
       "  <tbody>\n",
       "    <tr>\n",
       "      <th>0</th>\n",
       "      <td>1155</td>\n",
       "      <td>2016-12-01</td>\n",
       "      <td>C82010</td>\n",
       "      <td>other</td>\n",
       "      <td>200</td>\n",
       "      <td>0</td>\n",
       "      <td>0</td>\n",
       "      <td>1.0</td>\n",
       "    </tr>\n",
       "  </tbody>\n",
       "</table>\n",
       "</div>"
      ],
      "text/plain": [
       "   index      period org_code   type  attendances  breaches  admissions  \\\n",
       "0   1155  2016-12-01   C82010  other          200         0           0   \n",
       "\n",
       "   performance  \n",
       "0          1.0  "
      ]
     },
     "execution_count": 34,
     "metadata": {},
     "output_type": "execute_result"
    }
   ],
   "source": [
    "testData.head(1)"
   ]
  },
  {
   "cell_type": "markdown",
   "id": "particular-female",
   "metadata": {},
   "source": [
    "### IntText"
   ]
  },
  {
   "cell_type": "code",
   "execution_count": 35,
   "id": "irish-renewal",
   "metadata": {},
   "outputs": [
    {
     "data": {
      "application/vnd.jupyter.widget-view+json": {
       "model_id": "183d795a7227409d982030f9788a162e",
       "version_major": 2,
       "version_minor": 0
      },
      "text/plain": [
       "IntText(value=0, description='Breaches:')"
      ]
     },
     "metadata": {},
     "output_type": "display_data"
    }
   ],
   "source": [
    "f=widgets.IntText(\n",
    "    value=0,\n",
    "    description='Breaches:',\n",
    "    disabled=False)\n",
    "display(f)"
   ]
  },
  {
   "cell_type": "code",
   "execution_count": 36,
   "id": "filled-ballet",
   "metadata": {},
   "outputs": [
    {
     "data": {
      "text/html": [
       "<div>\n",
       "<style scoped>\n",
       "    .dataframe tbody tr th:only-of-type {\n",
       "        vertical-align: middle;\n",
       "    }\n",
       "\n",
       "    .dataframe tbody tr th {\n",
       "        vertical-align: top;\n",
       "    }\n",
       "\n",
       "    .dataframe thead th {\n",
       "        text-align: right;\n",
       "    }\n",
       "</style>\n",
       "<table border=\"1\" class=\"dataframe\">\n",
       "  <thead>\n",
       "    <tr style=\"text-align: right;\">\n",
       "      <th></th>\n",
       "      <th>index</th>\n",
       "      <th>period</th>\n",
       "      <th>org_code</th>\n",
       "      <th>type</th>\n",
       "      <th>attendances</th>\n",
       "      <th>breaches</th>\n",
       "      <th>admissions</th>\n",
       "      <th>performance</th>\n",
       "      <th>consent</th>\n",
       "    </tr>\n",
       "  </thead>\n",
       "  <tbody>\n",
       "    <tr>\n",
       "      <th>0</th>\n",
       "      <td>1155</td>\n",
       "      <td>NaT</td>\n",
       "      <td>C82010</td>\n",
       "      <td>other</td>\n",
       "      <td>0</td>\n",
       "      <td>0</td>\n",
       "      <td>0</td>\n",
       "      <td>0.0</td>\n",
       "      <td>False</td>\n",
       "    </tr>\n",
       "  </tbody>\n",
       "</table>\n",
       "</div>"
      ],
      "text/plain": [
       "   index period org_code   type  attendances  breaches  admissions  \\\n",
       "0   1155    NaT   C82010  other            0         0           0   \n",
       "\n",
       "   performance  consent  \n",
       "0          0.0    False  "
      ]
     },
     "execution_count": 36,
     "metadata": {},
     "output_type": "execute_result"
    }
   ],
   "source": [
    "dfTofill.iloc[0,5]=f.value\n",
    "dfTofill"
   ]
  },
  {
   "cell_type": "markdown",
   "id": "headed-prior",
   "metadata": {},
   "source": [
    "#### The admissions variable\n",
    "The admissions variable includes the number of attendances that resulted in an admission to the hospital.[(Chris Mainey, 2021)](https://eu01.alma.exlibrisgroup.com/leganto/public/44UOE_INST/citation/37444097490002466?auth=SAML)"
   ]
  },
  {
   "cell_type": "markdown",
   "id": "opening-divide",
   "metadata": {},
   "source": [
    "#### Data type\n",
    "We now need to check the data type in the testData data frame. Let us use the `dtypes` function from the Python *pandas* package to query the data types in the testData. The `dtypes` function returns the data types in the data frame."
   ]
  },
  {
   "cell_type": "code",
   "execution_count": 37,
   "id": "polished-doubt",
   "metadata": {},
   "outputs": [
    {
     "name": "stdout",
     "output_type": "stream",
     "text": [
      "int64\n"
     ]
    }
   ],
   "source": [
    "print(result[6])"
   ]
  },
  {
   "cell_type": "markdown",
   "id": "affecting-evaluation",
   "metadata": {},
   "source": [
    "It is an integer variable.\n",
    "\n",
    "##### The `head()` function\n",
    "The `head()` function lets you look at the top n rows of a data frame. By default, it shows the first five rows in a data frame. We can specify the number of rows we want to see in a data frame with the argument “n”. For example, look at the first row (n=1) of the test data:"
   ]
  },
  {
   "cell_type": "code",
   "execution_count": 38,
   "id": "touched-lender",
   "metadata": {},
   "outputs": [
    {
     "data": {
      "text/html": [
       "<div>\n",
       "<style scoped>\n",
       "    .dataframe tbody tr th:only-of-type {\n",
       "        vertical-align: middle;\n",
       "    }\n",
       "\n",
       "    .dataframe tbody tr th {\n",
       "        vertical-align: top;\n",
       "    }\n",
       "\n",
       "    .dataframe thead th {\n",
       "        text-align: right;\n",
       "    }\n",
       "</style>\n",
       "<table border=\"1\" class=\"dataframe\">\n",
       "  <thead>\n",
       "    <tr style=\"text-align: right;\">\n",
       "      <th></th>\n",
       "      <th>index</th>\n",
       "      <th>period</th>\n",
       "      <th>org_code</th>\n",
       "      <th>type</th>\n",
       "      <th>attendances</th>\n",
       "      <th>breaches</th>\n",
       "      <th>admissions</th>\n",
       "      <th>performance</th>\n",
       "    </tr>\n",
       "  </thead>\n",
       "  <tbody>\n",
       "    <tr>\n",
       "      <th>0</th>\n",
       "      <td>1155</td>\n",
       "      <td>2016-12-01</td>\n",
       "      <td>C82010</td>\n",
       "      <td>other</td>\n",
       "      <td>200</td>\n",
       "      <td>0</td>\n",
       "      <td>0</td>\n",
       "      <td>1.0</td>\n",
       "    </tr>\n",
       "  </tbody>\n",
       "</table>\n",
       "</div>"
      ],
      "text/plain": [
       "   index      period org_code   type  attendances  breaches  admissions  \\\n",
       "0   1155  2016-12-01   C82010  other          200         0           0   \n",
       "\n",
       "   performance  \n",
       "0          1.0  "
      ]
     },
     "execution_count": 38,
     "metadata": {},
     "output_type": "execute_result"
    }
   ],
   "source": [
    "testData.head(n=1)"
   ]
  },
  {
   "cell_type": "markdown",
   "id": "tender-looking",
   "metadata": {},
   "source": [
    "### IntText"
   ]
  },
  {
   "cell_type": "code",
   "execution_count": 39,
   "id": "roman-newport",
   "metadata": {},
   "outputs": [
    {
     "data": {
      "application/vnd.jupyter.widget-view+json": {
       "model_id": "c63b53991b9248948be2492c7ee76839",
       "version_major": 2,
       "version_minor": 0
      },
      "text/plain": [
       "IntText(value=0, description='Admissions:')"
      ]
     },
     "metadata": {},
     "output_type": "display_data"
    }
   ],
   "source": [
    "g=widgets.IntText(\n",
    "    value=0,\n",
    "    description='Admissions:',\n",
    "    disabled=False)\n",
    "display(g)"
   ]
  },
  {
   "cell_type": "code",
   "execution_count": 40,
   "id": "sublime-harbor",
   "metadata": {},
   "outputs": [
    {
     "data": {
      "text/html": [
       "<div>\n",
       "<style scoped>\n",
       "    .dataframe tbody tr th:only-of-type {\n",
       "        vertical-align: middle;\n",
       "    }\n",
       "\n",
       "    .dataframe tbody tr th {\n",
       "        vertical-align: top;\n",
       "    }\n",
       "\n",
       "    .dataframe thead th {\n",
       "        text-align: right;\n",
       "    }\n",
       "</style>\n",
       "<table border=\"1\" class=\"dataframe\">\n",
       "  <thead>\n",
       "    <tr style=\"text-align: right;\">\n",
       "      <th></th>\n",
       "      <th>index</th>\n",
       "      <th>period</th>\n",
       "      <th>org_code</th>\n",
       "      <th>type</th>\n",
       "      <th>attendances</th>\n",
       "      <th>breaches</th>\n",
       "      <th>admissions</th>\n",
       "      <th>performance</th>\n",
       "      <th>consent</th>\n",
       "    </tr>\n",
       "  </thead>\n",
       "  <tbody>\n",
       "    <tr>\n",
       "      <th>0</th>\n",
       "      <td>1155</td>\n",
       "      <td>NaT</td>\n",
       "      <td>C82010</td>\n",
       "      <td>other</td>\n",
       "      <td>0</td>\n",
       "      <td>0</td>\n",
       "      <td>0</td>\n",
       "      <td>0.0</td>\n",
       "      <td>False</td>\n",
       "    </tr>\n",
       "  </tbody>\n",
       "</table>\n",
       "</div>"
      ],
      "text/plain": [
       "   index period org_code   type  attendances  breaches  admissions  \\\n",
       "0   1155    NaT   C82010  other            0         0           0   \n",
       "\n",
       "   performance  consent  \n",
       "0          0.0    False  "
      ]
     },
     "execution_count": 40,
     "metadata": {},
     "output_type": "execute_result"
    }
   ],
   "source": [
    "dfTofill.iloc[0,6]=g.value\n",
    "dfTofill"
   ]
  },
  {
   "cell_type": "markdown",
   "id": "indirect-hardware",
   "metadata": {},
   "source": [
    "# The performance variable\n",
    "The performance variable was calculated for the whole of England as (1 - breaches)/ attendances."
   ]
  },
  {
   "cell_type": "markdown",
   "id": "preliminary-economics",
   "metadata": {},
   "source": [
    "#### Data type\n",
    "We now need to check the data type in the testData data frame. Let us use the `dtypes` function from the Python *pandas* package to query the data types in the testData. The `dtypes` function returns the data types in the data frame."
   ]
  },
  {
   "cell_type": "code",
   "execution_count": 41,
   "id": "rolled-workstation",
   "metadata": {},
   "outputs": [
    {
     "name": "stdout",
     "output_type": "stream",
     "text": [
      "float64\n"
     ]
    }
   ],
   "source": [
    "print(result[7])"
   ]
  },
  {
   "cell_type": "markdown",
   "id": "preliminary-banner",
   "metadata": {},
   "source": [
    "It is a float variable.\n",
    "\n",
    "##### The `head()` function\n",
    "The `head()` function lets you look at the top n rows of a data frame. By default, it shows the first five rows in a data frame. We can specify the number of rows we want to see in a data frame with the argument “n”. For example, look at the first row (n=1) of the test data:"
   ]
  },
  {
   "cell_type": "code",
   "execution_count": 42,
   "id": "derived-seeker",
   "metadata": {},
   "outputs": [
    {
     "data": {
      "text/html": [
       "<div>\n",
       "<style scoped>\n",
       "    .dataframe tbody tr th:only-of-type {\n",
       "        vertical-align: middle;\n",
       "    }\n",
       "\n",
       "    .dataframe tbody tr th {\n",
       "        vertical-align: top;\n",
       "    }\n",
       "\n",
       "    .dataframe thead th {\n",
       "        text-align: right;\n",
       "    }\n",
       "</style>\n",
       "<table border=\"1\" class=\"dataframe\">\n",
       "  <thead>\n",
       "    <tr style=\"text-align: right;\">\n",
       "      <th></th>\n",
       "      <th>index</th>\n",
       "      <th>period</th>\n",
       "      <th>org_code</th>\n",
       "      <th>type</th>\n",
       "      <th>attendances</th>\n",
       "      <th>breaches</th>\n",
       "      <th>admissions</th>\n",
       "      <th>performance</th>\n",
       "    </tr>\n",
       "  </thead>\n",
       "  <tbody>\n",
       "    <tr>\n",
       "      <th>0</th>\n",
       "      <td>1155</td>\n",
       "      <td>2016-12-01</td>\n",
       "      <td>C82010</td>\n",
       "      <td>other</td>\n",
       "      <td>200</td>\n",
       "      <td>0</td>\n",
       "      <td>0</td>\n",
       "      <td>1.0</td>\n",
       "    </tr>\n",
       "  </tbody>\n",
       "</table>\n",
       "</div>"
      ],
      "text/plain": [
       "   index      period org_code   type  attendances  breaches  admissions  \\\n",
       "0   1155  2016-12-01   C82010  other          200         0           0   \n",
       "\n",
       "   performance  \n",
       "0          1.0  "
      ]
     },
     "execution_count": 42,
     "metadata": {},
     "output_type": "execute_result"
    }
   ],
   "source": [
    "testData.head(n=1)"
   ]
  },
  {
   "cell_type": "markdown",
   "id": "imported-uniform",
   "metadata": {},
   "source": [
    "### FloatText"
   ]
  },
  {
   "cell_type": "code",
   "execution_count": 43,
   "id": "crazy-sleep",
   "metadata": {},
   "outputs": [
    {
     "data": {
      "application/vnd.jupyter.widget-view+json": {
       "model_id": "1652e1a0923b44d89280a0b06b6c34a8",
       "version_major": 2,
       "version_minor": 0
      },
      "text/plain": [
       "FloatText(value=0.0, description='Performance:')"
      ]
     },
     "metadata": {},
     "output_type": "display_data"
    }
   ],
   "source": [
    "h=widgets.FloatText(\n",
    "    value=0.0,\n",
    "    description='Performance:',\n",
    "    disabled=False\n",
    ")\n",
    "display(h)"
   ]
  },
  {
   "cell_type": "code",
   "execution_count": 44,
   "id": "personal-pixel",
   "metadata": {},
   "outputs": [
    {
     "data": {
      "text/html": [
       "<div>\n",
       "<style scoped>\n",
       "    .dataframe tbody tr th:only-of-type {\n",
       "        vertical-align: middle;\n",
       "    }\n",
       "\n",
       "    .dataframe tbody tr th {\n",
       "        vertical-align: top;\n",
       "    }\n",
       "\n",
       "    .dataframe thead th {\n",
       "        text-align: right;\n",
       "    }\n",
       "</style>\n",
       "<table border=\"1\" class=\"dataframe\">\n",
       "  <thead>\n",
       "    <tr style=\"text-align: right;\">\n",
       "      <th></th>\n",
       "      <th>index</th>\n",
       "      <th>period</th>\n",
       "      <th>org_code</th>\n",
       "      <th>type</th>\n",
       "      <th>attendances</th>\n",
       "      <th>breaches</th>\n",
       "      <th>admissions</th>\n",
       "      <th>performance</th>\n",
       "      <th>consent</th>\n",
       "    </tr>\n",
       "  </thead>\n",
       "  <tbody>\n",
       "    <tr>\n",
       "      <th>0</th>\n",
       "      <td>1155</td>\n",
       "      <td>NaT</td>\n",
       "      <td>C82010</td>\n",
       "      <td>other</td>\n",
       "      <td>0</td>\n",
       "      <td>0</td>\n",
       "      <td>0</td>\n",
       "      <td>0.0</td>\n",
       "      <td>False</td>\n",
       "    </tr>\n",
       "  </tbody>\n",
       "</table>\n",
       "</div>"
      ],
      "text/plain": [
       "   index period org_code   type  attendances  breaches  admissions  \\\n",
       "0   1155    NaT   C82010  other            0         0           0   \n",
       "\n",
       "   performance  consent  \n",
       "0          0.0    False  "
      ]
     },
     "execution_count": 44,
     "metadata": {},
     "output_type": "execute_result"
    }
   ],
   "source": [
    "dfTofill.iloc[0,7]=h.value\n",
    "dfTofill"
   ]
  },
  {
   "cell_type": "markdown",
   "id": "concerned-algeria",
   "metadata": {},
   "source": [
    "# Concatenating the collected data to the CollectData data frame.   \n",
    "Let us use the `concat()` function from the Python *pandas* package to append the CollectData and dfTofill data frames. The concat() function is used to concatenate *pandas* objects."
   ]
  },
  {
   "cell_type": "code",
   "execution_count": 45,
   "id": "reserved-tomato",
   "metadata": {},
   "outputs": [
    {
     "data": {
      "text/html": [
       "<div>\n",
       "<style scoped>\n",
       "    .dataframe tbody tr th:only-of-type {\n",
       "        vertical-align: middle;\n",
       "    }\n",
       "\n",
       "    .dataframe tbody tr th {\n",
       "        vertical-align: top;\n",
       "    }\n",
       "\n",
       "    .dataframe thead th {\n",
       "        text-align: right;\n",
       "    }\n",
       "</style>\n",
       "<table border=\"1\" class=\"dataframe\">\n",
       "  <thead>\n",
       "    <tr style=\"text-align: right;\">\n",
       "      <th></th>\n",
       "      <th>index</th>\n",
       "      <th>period</th>\n",
       "      <th>org_code</th>\n",
       "      <th>type</th>\n",
       "      <th>attendances</th>\n",
       "      <th>breaches</th>\n",
       "      <th>admissions</th>\n",
       "      <th>performance</th>\n",
       "      <th>consent</th>\n",
       "    </tr>\n",
       "  </thead>\n",
       "  <tbody>\n",
       "    <tr>\n",
       "      <th>0</th>\n",
       "      <td>1155</td>\n",
       "      <td>2016-12-01</td>\n",
       "      <td>C82010</td>\n",
       "      <td>other</td>\n",
       "      <td>200</td>\n",
       "      <td>0</td>\n",
       "      <td>0</td>\n",
       "      <td>1.0</td>\n",
       "      <td>True</td>\n",
       "    </tr>\n",
       "    <tr>\n",
       "      <th>0</th>\n",
       "      <td>1155</td>\n",
       "      <td>NaN</td>\n",
       "      <td>C82010</td>\n",
       "      <td>other</td>\n",
       "      <td>0</td>\n",
       "      <td>0</td>\n",
       "      <td>0</td>\n",
       "      <td>0.0</td>\n",
       "      <td>False</td>\n",
       "    </tr>\n",
       "  </tbody>\n",
       "</table>\n",
       "</div>"
      ],
      "text/plain": [
       "   index      period org_code   type  attendances  breaches  admissions  \\\n",
       "0   1155  2016-12-01   C82010  other          200         0           0   \n",
       "0   1155         NaN   C82010  other            0         0           0   \n",
       "\n",
       "   performance  consent  \n",
       "0          1.0     True  \n",
       "0          0.0    False  "
      ]
     },
     "metadata": {},
     "output_type": "display_data"
    }
   ],
   "source": [
    "# CollectData is the first data frame\n",
    "# dfTofill is the second data frame\n",
    "CollectData  = pd.concat([CollectData, dfTofill])\n",
    "display(CollectData)"
   ]
  },
  {
   "cell_type": "markdown",
   "id": "balanced-worship",
   "metadata": {},
   "source": [
    "## Have you consent to process and share the data before you save it to the working data folder?\n",
    "\n",
    "Before we save our data to file, we must make sure we have consent to do so. The following line of code, will ensure that you have consent to save data."
   ]
  },
  {
   "cell_type": "code",
   "execution_count": 46,
   "id": "worthy-vegetarian",
   "metadata": {},
   "outputs": [
    {
     "data": {
      "text/html": [
       "<div>\n",
       "<style scoped>\n",
       "    .dataframe tbody tr th:only-of-type {\n",
       "        vertical-align: middle;\n",
       "    }\n",
       "\n",
       "    .dataframe tbody tr th {\n",
       "        vertical-align: top;\n",
       "    }\n",
       "\n",
       "    .dataframe thead th {\n",
       "        text-align: right;\n",
       "    }\n",
       "</style>\n",
       "<table border=\"1\" class=\"dataframe\">\n",
       "  <thead>\n",
       "    <tr style=\"text-align: right;\">\n",
       "      <th></th>\n",
       "      <th>index</th>\n",
       "      <th>period</th>\n",
       "      <th>org_code</th>\n",
       "      <th>type</th>\n",
       "      <th>attendances</th>\n",
       "      <th>breaches</th>\n",
       "      <th>admissions</th>\n",
       "      <th>performance</th>\n",
       "      <th>consent</th>\n",
       "    </tr>\n",
       "  </thead>\n",
       "  <tbody>\n",
       "    <tr>\n",
       "      <th>0</th>\n",
       "      <td>1155</td>\n",
       "      <td>2016-12-01</td>\n",
       "      <td>C82010</td>\n",
       "      <td>other</td>\n",
       "      <td>200</td>\n",
       "      <td>0</td>\n",
       "      <td>0</td>\n",
       "      <td>1.0</td>\n",
       "      <td>True</td>\n",
       "    </tr>\n",
       "  </tbody>\n",
       "</table>\n",
       "</div>"
      ],
      "text/plain": [
       "   index      period org_code   type  attendances  breaches  admissions  \\\n",
       "0   1155  2016-12-01   C82010  other          200         0           0   \n",
       "\n",
       "   performance  consent  \n",
       "0          1.0     True  "
      ]
     },
     "metadata": {},
     "output_type": "display_data"
    }
   ],
   "source": [
    "CollectData=CollectData[CollectData['consent'] == True]\n",
    "display(CollectData)"
   ]
  },
  {
   "cell_type": "markdown",
   "id": "above-league",
   "metadata": {},
   "source": [
    "### Saving the CollectData data frame\n",
    "Saving the data collected by your data-capture tool to the working data folder:"
   ]
  },
  {
   "cell_type": "code",
   "execution_count": 47,
   "id": "undefined-bristol",
   "metadata": {},
   "outputs": [],
   "source": [
    "CollectData.to_csv('../Data/CollectedData.csv', index=False)"
   ]
  },
  {
   "cell_type": "markdown",
   "id": "banned-basic",
   "metadata": {},
   "source": [
    "That is the CollectData data frame saved to the working 'Data' folder. You need to iterate through this Notebook until you have collected all of your test data and then save the captured test data to your 'RawData' folder."
   ]
  },
  {
   "cell_type": "code",
   "execution_count": 48,
   "id": "integral-basketball",
   "metadata": {},
   "outputs": [],
   "source": [
    "#CollectData.to_csv('../RawData/CollectedDataFinal.csv', index=False)"
   ]
  },
  {
   "cell_type": "markdown",
   "id": "previous-swift",
   "metadata": {},
   "source": [
    "<br>\n",
    "<br>\n",
    "<br>\n",
    "\n",
    "# The user interface for your data collection tool \n",
    "\n",
    "In this section, you will provide a little background for your end-user, why your need their data, and what you are going to do with it.\n",
    "<br>\n",
    "\n",
    "## The Box widget\n",
    "The Box widget enables rich reactive layouts in the Jupyter Notebook. It aims at providing an efficient way to lay out, align and distribute space among your widgets in a box. The HBox (Horizontal layout) and VBox (vertical layout) classes above are special cases of the Box widget.\n",
    "\n",
    "<br>\n",
    "\n",
    "### Create a reactive form for end-user\n",
    "Let’s use the VBox widget to create a reactive form for our end-user. The form itself, and each row in the form is a Box widget.\n",
    "\n",
    "<br>"
   ]
  },
  {
   "cell_type": "code",
   "execution_count": 49,
   "id": "elect-discipline",
   "metadata": {},
   "outputs": [],
   "source": [
    "#form=widgets.VBox([a,b,c,d,e,f,g,h])\n",
    "form=widgets.VBox([a,b,e,f])"
   ]
  },
  {
   "cell_type": "markdown",
   "id": "professional-monthly",
   "metadata": {},
   "source": [
    "# Our commitment to a maximum four-hour accident and emergency wait \n",
    "\n",
    "\n",
    "The four-hour accident and emergency waiting time target is a pledge set out in our ['Handbook to the NHS Constitution'](https://eu01.alma.exlibrisgroup.com/leganto/public/44UOE_INST/citation/37819402820002466?auth=SAML). \n",
    "Our operational standard is that at least 95% of patients attending A&E should be admitted, transferred, or discharged within four hours.[(The UK Government, 2022)](https://eu01.alma.exlibrisgroup.com/leganto/public/44UOE_INST/citation/37819402820002466?auth=SAML) This standard applies to all areas of emergency care, including attendances in trolleyed areas of an Assessment Unit as well as Emergency Departments and minor injury units. For service users that require admission to A&E, the time they wait between the doctor deciding that they should be admitted for treatment and the patient arriving on the ward is an important measure of safety. The Royal College of Emergency Medicine estimated that overcrowding and extreme delays led to 4,519 excess deaths in England in 2020/21.  In March 2022, 136,297 patients waited over four hours from decision to admission, 27% of all patients. [(The Nuffield Trust, 2022)](https://eu01.alma.exlibrisgroup.com/leganto/public/44UOE_INST/citation/37819506800002466?auth=SAML)\n",
    "\n",
    "To keep our service users and NHS England safe by ensuring A&E departments provide the fastest and most appropriate care for service users as and when they need it. We need your monthly data on the number of attendances and breaches over time to make available to your and other service managers to set as a benchmark against which to assess and improve your department’s performance against the 4-hour standard. We would be very grateful if you could take one minute each month to share your data with us in the form below:"
   ]
  },
  {
   "cell_type": "code",
   "execution_count": 50,
   "id": "latest-shelter",
   "metadata": {
    "scrolled": true
   },
   "outputs": [
    {
     "data": {
      "application/vnd.jupyter.widget-view+json": {
       "model_id": "db0bdd3ce3984c8086adc398614313d9",
       "version_major": 2,
       "version_minor": 0
      },
      "text/plain": [
       "VBox(children=(Checkbox(value=False, description='I consent for the data I have provided to be processed and s…"
      ]
     },
     "metadata": {},
     "output_type": "display_data"
    }
   ],
   "source": [
    "display(form)"
   ]
  },
  {
   "cell_type": "markdown",
   "id": "peripheral-avatar",
   "metadata": {},
   "source": [
    "Thank you for sharing your data, and giving us your consent to process and share it with other service management teams across England. We will add your data to our [open data resource](https://github.com/B111333/B111333WorkingWithDataTypesAndStructuresInPythonandR_Assessment) for you to use now or in the futures as a benchmark against which to assess and improve your department’s performance against the 4-hour standard. \n",
    "\n",
    "\n",
    "I hope these examples help you to improve your Python programming skills. Happy Coding!"
   ]
  }
 ],
 "metadata": {
  "kernelspec": {
   "display_name": "Python 3 (ipykernel)",
   "language": "python",
   "name": "python3"
  },
  "language_info": {
   "codemirror_mode": {
    "name": "ipython",
    "version": 3
   },
   "file_extension": ".py",
   "mimetype": "text/x-python",
   "name": "python",
   "nbconvert_exporter": "python",
   "pygments_lexer": "ipython3",
   "version": "3.9.2"
  }
 },
 "nbformat": 4,
 "nbformat_minor": 5
}
