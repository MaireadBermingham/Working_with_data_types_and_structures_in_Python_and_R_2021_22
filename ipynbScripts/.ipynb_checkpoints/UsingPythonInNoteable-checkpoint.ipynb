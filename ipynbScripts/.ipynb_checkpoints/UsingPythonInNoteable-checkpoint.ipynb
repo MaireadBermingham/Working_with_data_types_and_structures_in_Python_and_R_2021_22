{
 "cells": [
  {
   "cell_type": "markdown",
   "id": "bright-parent",
   "metadata": {},
   "source": [
    "# Title: Using Python on in Noteable  \n",
    "**Author details:** *Author:*  Mairead Bermingham. *Contact details:* mairead.bermingham@ed.ac.uk.  \n",
    "**Notebook and data info:** This notebook provides an example of using Python as a calculator, and to collect BMI data entered in the notebook, and finally saving the data as a csv file to the working 'Data' folder.     \n",
    "**Data:** Data consists of numerical data. The data was collected was inputted on the 3rd June 2022.     \n",
    "**Copyright statement:** This notebook is the product of The University of Edinburgh.  \n"
   ]
  },
  {
   "cell_type": "markdown",
   "id": "surprising-joyce",
   "metadata": {},
   "source": [
    "## Python arithmetic operators\n",
    "Python operators are used to perform operations on values and variables. Arithmetic operators are used to perform mathematical operations like addition, subtraction, multiplication and division. Here are five arithmetic operators in Python:\n",
    "\n",
    "Operator | Name           | Example\n",
    "-------- | -----------    |-----------\n",
    "+        | Addition       | x + y\n",
    "-        | Subtraction    | x - y\n",
    "*        | Multiplication | x * y\n",
    "/        | Division       | x / y\n",
    "**       | Exponentiation | x ** y\n",
    "\n",
    "**Note**: R arithmetic operators are identical, except that you can use ^ or ** for  exponentiation."
   ]
  },
  {
   "cell_type": "markdown",
   "id": "substantial-treasurer",
   "metadata": {},
   "source": [
    "### Here is an example of using Python as a calculator to perform a numerical operation."
   ]
  },
  {
   "cell_type": "code",
   "execution_count": 3,
   "id": "adjustable-lindsay",
   "metadata": {},
   "outputs": [
    {
     "data": {
      "text/plain": [
       "97.5"
      ]
     },
     "execution_count": 3,
     "metadata": {},
     "output_type": "execute_result"
    }
   ],
   "source": [
    "#Here is an example of using Python as a calculator to perform a numerical operation.\n",
    "(3 + 7)**2 - 1*10/4"
   ]
  },
  {
   "cell_type": "code",
   "execution_count": 58,
   "id": "piano-burst",
   "metadata": {},
   "outputs": [
    {
     "name": "stdout",
     "output_type": "stream",
     "text": [
      "[19.53125    18.51851852 16.         15.2       ]\n"
     ]
    },
    {
     "data": {
      "text/plain": [
       "matrix([[ 1.6       , 50.        , 19.53125   ],\n",
       "        [ 1.8       , 60.        , 18.51851852],\n",
       "        [ 2.        , 64.        , 16.        ],\n",
       "        [ 2.5       , 95.        , 15.2       ]])"
      ]
     },
     "execution_count": 58,
     "metadata": {},
     "output_type": "execute_result"
    }
   ],
   "source": [
    "#Numpy is the core library for scientific computing in Python. \n",
    "#It provides a high-performance multidimensional array object, and tools for working with these arrays.\n",
    "#A numpy array is a grid of values, all of the same type\n",
    "#Load the numpy library\n",
    "import numpy as np\n",
    "Height =np.array([1.6, 1.8, 2.0, 2.5]) # height data in m\n",
    "Height2 =np.power(Height,2) # height data in m\n",
    "Weight =np.array([50, 60, 64, 95])     # weight data in kg\n",
    "BMI = Weight/Height2      # BMI\n",
    "print(BMI)\n",
    "np.transpose(numpy.matrix([Height , Weight, BMI])) # column bind, like spreadshee\n",
    "\n",
    "\n"
   ]
  },
  {
   "cell_type": "markdown",
   "id": "italian-horizontal",
   "metadata": {},
   "source": [
    "# Using 'pandas' to write the BMI data to file\n",
    "'pandas' is a Python package for data manipulation and analysis.\n",
    "Packages are extensions to the Python statistical programming language. Python packages contain code, data, and documentation in a standardised collection format that can be installed by Python users.  \n",
    "Load the Python package 'pandas' that you will need to run the next few lines of code.  "
   ]
  },
  {
   "cell_type": "code",
   "execution_count": 61,
   "id": "painful-brooklyn",
   "metadata": {},
   "outputs": [
    {
     "name": "stdout",
     "output_type": "stream",
     "text": [
      "[[ 1.6        50.         19.53125   ]\n",
      " [ 1.8        60.         18.51851852]\n",
      " [ 2.         64.         16.        ]\n",
      " [ 2.5        95.         15.2       ]]\n",
      "[1, 2, 3, 4]\n",
      "   Height  Weight        BMI\n",
      "1     1.6    50.0  19.531250\n",
      "2     1.8    60.0  18.518519\n",
      "3     2.0    64.0  16.000000\n",
      "4     2.5    95.0  15.200000\n"
     ]
    }
   ],
   "source": [
    "import pandas as pd\n",
    "#Create the Numpy array\n",
    "array = np.transpose(numpy.matrix([Height , Weight, BMI]))# column bind, like spreadshee\n",
    "print(array)\n",
    "#Create a list of index names\n",
    "index_values = list(range(1,5))\n",
    "print(index_values) \n",
    "#Create a list of column names\n",
    "column_values = ['Height' , 'Weight', 'BMI']\n",
    "column_values  \n",
    "#Create the dataframe\n",
    "df = pd.DataFrame(data = array, \n",
    "                  index = index_values, \n",
    "                  columns = column_values)\n",
    "  \n",
    "#Displaying the dataframe\n",
    "print(df)"
   ]
  },
  {
   "cell_type": "code",
   "execution_count": null,
   "id": "unsigned-router",
   "metadata": {},
   "outputs": [],
   "source": []
  },
  {
   "cell_type": "code",
   "execution_count": 64,
   "id": "prompt-mouse",
   "metadata": {},
   "outputs": [
    {
     "data": {
      "text/html": [
       "<div>\n",
       "<style scoped>\n",
       "    .dataframe tbody tr th:only-of-type {\n",
       "        vertical-align: middle;\n",
       "    }\n",
       "\n",
       "    .dataframe tbody tr th {\n",
       "        vertical-align: top;\n",
       "    }\n",
       "\n",
       "    .dataframe thead th {\n",
       "        text-align: right;\n",
       "    }\n",
       "</style>\n",
       "<table border=\"1\" class=\"dataframe\">\n",
       "  <thead>\n",
       "    <tr style=\"text-align: right;\">\n",
       "      <th></th>\n",
       "      <th>Height</th>\n",
       "      <th>Weight</th>\n",
       "      <th>BMI</th>\n",
       "    </tr>\n",
       "  </thead>\n",
       "  <tbody>\n",
       "    <tr>\n",
       "      <th>1</th>\n",
       "      <td>1.6</td>\n",
       "      <td>50.0</td>\n",
       "      <td>19.531250</td>\n",
       "    </tr>\n",
       "    <tr>\n",
       "      <th>2</th>\n",
       "      <td>1.8</td>\n",
       "      <td>60.0</td>\n",
       "      <td>18.518519</td>\n",
       "    </tr>\n",
       "    <tr>\n",
       "      <th>3</th>\n",
       "      <td>2.0</td>\n",
       "      <td>64.0</td>\n",
       "      <td>16.000000</td>\n",
       "    </tr>\n",
       "    <tr>\n",
       "      <th>4</th>\n",
       "      <td>2.5</td>\n",
       "      <td>95.0</td>\n",
       "      <td>15.200000</td>\n",
       "    </tr>\n",
       "  </tbody>\n",
       "</table>\n",
       "</div>"
      ],
      "text/plain": [
       "   Height  Weight        BMI\n",
       "1     1.6    50.0  19.531250\n",
       "2     1.8    60.0  18.518519\n",
       "3     2.0    64.0  16.000000\n",
       "4     2.5    95.0  15.200000"
      ]
     },
     "execution_count": 64,
     "metadata": {},
     "output_type": "execute_result"
    }
   ],
   "source": [
    "#Print the data\n",
    "#If you’re using a Jupyter notebook, outputs from simply typing in the name of the data frame will result in nicely formatted outputs. Printing is a convenient way to preview your loaded data, you can confirm that column names were imported correctly, that the data formats are as expected, and if there are missing values anywhere.\n",
    "df\n",
    "#Head() and Tail() need to be core parts of your go-to Python Pandas functions for investigating your datasets.\n",
    "#Prints out the first five row of the data set\n",
    "df.head()"
   ]
  },
  {
   "cell_type": "code",
   "execution_count": 73,
   "id": "metallic-oliver",
   "metadata": {},
   "outputs": [],
   "source": [
    "#One functions you’ll need to know is to_csv to write a DataFrame to a CSV file\n",
    "\n",
    "df.to_csv('../Data/BMIDataPY.csv', index=False)"
   ]
  },
  {
   "cell_type": "markdown",
   "id": "regulated-personality",
   "metadata": {},
   "source": [
    "If you would like to the the same in R here is the code:\n",
    "\n",
    "# Using 'readr' from 'tidyverse' to write the BMI data to file\n",
    "'tidyverse' is a collection of essential R packages for data science. 'readr' provides a fast and friendly way to read rectangular data from delimited files, such as comma-separated values (CSV) and tab-separated values (TSV). A data frame is a table or a two-dimensional array-like structure in which each column contains values of one variable and each row contains one set of values from each column. The function data.frame() creates data frames.  \n",
    "Load the R packages that you will need to run the next few lines of R code.  \n",
    "`library(tidyverse)`  \n",
    "`library(readr)`  \n",
    "\n",
    "Create a data frame from the BMI data.  \n",
    "`Data<-data.frame(cbind(Height , Weight, BMI))`  \n",
    "`view(Data)`  \n",
    "`head(Data)`  \n",
    "`write_csv(Data, file=\"./Data/BMIData.csv\")`  \n"
   ]
  },
  {
   "cell_type": "code",
   "execution_count": null,
   "id": "british-debut",
   "metadata": {},
   "outputs": [],
   "source": []
  }
 ],
 "metadata": {
  "kernelspec": {
   "display_name": "Python 3 (ipykernel)",
   "language": "python",
   "name": "python3"
  },
  "language_info": {
   "codemirror_mode": {
    "name": "ipython",
    "version": 3
   },
   "file_extension": ".py",
   "mimetype": "text/x-python",
   "name": "python",
   "nbconvert_exporter": "python",
   "pygments_lexer": "ipython3",
   "version": "3.9.2"
  }
 },
 "nbformat": 4,
 "nbformat_minor": 5
}
