{
 "cells": [
  {
   "cell_type": "markdown",
   "id": "caroline-carnival",
   "metadata": {},
   "source": [
    "### Title: **Python data structures**  \n",
    "Author details: Author: Mairead Bermingham. Contact details: mairead.bermingham@ed.ac.uk.  <br>\n",
    "Copyright statement: This notebook is the product of The University of Edinburgh.  \n",
    " <br>\n",
    " \n",
    "# **Understanding data structures in Python**  \n",
    "\n",
    "The most common data structures (figure 1) include:\n",
    "\n",
    "* Vectors\n",
    "* Matrices\n",
    "* Arrays\n",
    "* Lists\n",
    "* Data frames\n",
    "\n",
    "#### display()\n",
    "The IPython.display package is used to display different objects in Jupyter. You can also explicitly display an image using the `display.Image()`function from the *IPython.display* package."
   ]
  },
  {
   "cell_type": "code",
   "execution_count": 1,
   "id": "falling-lithuania",
   "metadata": {},
   "outputs": [
    {
     "data": {
      "image/png": "[encoded data removed]",
      "text/plain": [
       "<IPython.core.display.Image object>"
      ]
     },
     "execution_count": 1,
     "metadata": {},
     "output_type": "execute_result"
    }
   ],
   "source": [
    "from IPython import display\n",
    "display.Image(\"../Figures/Images/DataStructures.png\")"
   ]
  },
  {
   "cell_type": "markdown",
   "id": "creative-terminal",
   "metadata": {},
   "source": [
    "Figure 1. The most common data structure types: vectors, matrices, arrays, lists, and data frames.\n",
    "\n",
    "\n",
    "Let us discuss each of these data structures one by one. \n",
    "\n",
    "## **Vectors and lists** \n",
    "\n",
    "Vectors are the basic data structure in R, upon which all other objects are built. A vector is a sequence of elements with the same type, i.e. they are homogeneous (figure 2).  "
   ]
  },
  {
   "cell_type": "code",
   "execution_count": 2,
   "id": "conceptual-killer",
   "metadata": {},
   "outputs": [
    {
     "data": {
      "image/png": "[encoded data removed]",
      "text/plain": [
       "<IPython.core.display.Image object>"
      ]
     },
     "execution_count": 2,
     "metadata": {},
     "output_type": "execute_result"
    }
   ],
   "source": [
    "display.Image(\"../Figures/Images/Vector.png\")"
   ]
  },
  {
   "cell_type": "markdown",
   "id": "endangered-sugar",
   "metadata": {},
   "source": [
    "\n",
    "Figure 2. One-dimensional and homogeneous R structures: vectors.\n",
    "In R, we can use function `c()` to create a vector; A vector is a sequence of elements with the same type. \n",
    "\n",
    "\n",
    "###### R\n",
    "---\n",
    "`a <- c(-5, 6, -3, 9, 15,26)`  \n",
    "`a`  \n",
    "[1] -5  6 -3  9 15 26\n",
    "---\n",
    "<br>\n",
    "Python has no bulit in vector structure. Lists are the basic data structure in Python, upon which all other objects are built. \n",
    "Lists are ordered collections of objects where the elements can be of a different type (a list can be a combination of matrices, vectors, other lists, etc.). Unlike vectors, its contents are not restricted to a single data type and can encompass any data type, i.e. they are heterogeneous (figure 3).\n"
   ]
  },
  {
   "cell_type": "code",
   "execution_count": 3,
   "id": "derived-craps",
   "metadata": {},
   "outputs": [
    {
     "data": {
      "image/png": "[encoded data removed]",
      "text/plain": [
       "<IPython.core.display.Image object>"
      ]
     },
     "execution_count": 3,
     "metadata": {},
     "output_type": "execute_result"
    }
   ],
   "source": [
    "display.Image(\"../Figures/Images/List.png\")"
   ]
  },
  {
   "cell_type": "markdown",
   "id": "assigned-detective",
   "metadata": {},
   "source": [
    "Figure 3. One-dimensional and heterogeneous R structures: lists.\n",
    "\n",
    "In Python, we can use square parentheses [] to create a list, which is also a sequence of elements. In contrast to vectors, list elements can be of different type, i.e. they are heterogeneous.  \n",
    "\n",
    "\n",
    "###### Python"
   ]
  },
  {
   "cell_type": "code",
   "execution_count": 4,
   "id": "quantitative-structure",
   "metadata": {},
   "outputs": [
    {
     "data": {
      "text/plain": [
       "[-5, 6, -3, 9, 15, 26]"
      ]
     },
     "execution_count": 4,
     "metadata": {},
     "output_type": "execute_result"
    }
   ],
   "source": [
    "a=[-5, 6, -3, 9, 15,26]\n",
    "a"
   ]
  },
  {
   "cell_type": "markdown",
   "id": "headed-electric",
   "metadata": {},
   "source": [
    "To get the number of elements in a vector in R, we use the function length()\n",
    "###### R\n",
    "---\n",
    "`length(a)`   \n",
    "[1] 6 \n",
    "---\n",
    "<br>\n",
    "To get the number of elements in a list in Python, we use the function len().  \n",
    "\n",
    "###### Python"
   ]
  },
  {
   "cell_type": "code",
   "execution_count": 5,
   "id": "soviet-carbon",
   "metadata": {},
   "outputs": [
    {
     "data": {
      "text/plain": [
       "6"
      ]
     },
     "execution_count": 5,
     "metadata": {},
     "output_type": "execute_result"
    }
   ],
   "source": [
    "len(a)"
   ]
  },
  {
   "cell_type": "markdown",
   "id": "knowing-portland",
   "metadata": {},
   "source": [
    "<br>\n",
    "  \n",
    "### Element types  \n",
    "In R, a vector is a sequence of elements with the same type, i.e. they are homogeneous. In contrast to vectors, list elements can be of different type (figure 2), i.e. they are heterogeneous.  "
   ]
  },
  {
   "cell_type": "markdown",
   "id": "packed-ethiopia",
   "metadata": {},
   "source": [
    "###### R  \n",
    "---  \n",
    "`aa<- c(\"Service user\", \"Healthcare\", \"Social care\", \"Care system\", 1)`  \n",
    "`aa`   \n",
    "[1] \"Service user\" \"Healthcare\"   \"Social care\"  \"Care system\"  \"1\"   \n",
    "---  \n",
    "\n",
    "In the R code above, the last element in the vector is coerced from 1 (numeric) to \"1\" (character) since the elements must have the same type. Whereas, in the case of a python list:  \n",
    "###### Python"
   ]
  },
  {
   "cell_type": "code",
   "execution_count": 6,
   "id": "pleasant-protein",
   "metadata": {},
   "outputs": [
    {
     "data": {
      "text/plain": [
       "['Service user', 'Healthcare', 'Social care', 'Care system', 1]"
      ]
     },
     "execution_count": 6,
     "metadata": {},
     "output_type": "execute_result"
    }
   ],
   "source": [
    "aa= [\"Service user\", \"Healthcare\", \"Social care\", \"Care system\", 1]  \n",
    "aa"
   ]
  },
  {
   "cell_type": "markdown",
   "id": "cognitive-terry",
   "metadata": {},
   "source": [
    "In the Python code above, the last element in the list remains as 1 (numeric) since the elements can be of different types.\n",
    "\n",
    "<br>\n",
    "\n",
    "### Indexing\n",
    "Elements of a sequence can be accessed using indexing. Indexing is a way to refer to the individual items by their position. In other words, you can directly access your elements of choice. In R, objects are “one-indexed”, meaning the position count starts at one. To access a specific element of an R vector, we use []. In contrast, objects are “zero-indexed”, meaning the position count starts at zero in Python (figure 4)."
   ]
  },
  {
   "cell_type": "code",
   "execution_count": 7,
   "id": "accurate-speaking",
   "metadata": {},
   "outputs": [
    {
     "data": {
      "image/png": "[encoded data removed]",
      "text/plain": [
       "<IPython.core.display.Image object>"
      ]
     },
     "execution_count": 7,
     "metadata": {},
     "output_type": "execute_result"
    }
   ],
   "source": [
    "display.Image(\"../Figures/Images/IndexingInPython.png\")"
   ]
  },
  {
   "cell_type": "markdown",
   "id": "accredited-cheat",
   "metadata": {},
   "source": [
    "Figure 4. Indexing in Python.  \n",
    "\n",
    "To access a specific element from a list in Python, we can also use [].\n",
    "\n",
    "The indexes used for indexing can be integer, logical or character vectors.\n",
    " \n",
    " \n",
    "#### Using integer vector as index\n",
    "\n",
    "#### Accessing one element\n",
    "\n",
    "We can use a sequence of integers as an index to access specific elements. The `print()` function in R and Python prints values.  \n",
    "\n",
    "###### R\n",
    "---\n",
    "`print(a)` <br> \n",
    "[1] -5  6 -3  9 15 26 <br> \n",
    "'a[3]'\n",
    "[1] -3\n",
    "---\n",
    "\n",
    " \n",
    "###### Python"
   ]
  },
  {
   "cell_type": "code",
   "execution_count": 8,
   "id": "fantastic-profession",
   "metadata": {},
   "outputs": [
    {
     "name": "stdout",
     "output_type": "stream",
     "text": [
      "[-5, 6, -3, 9, 15, 26]\n"
     ]
    },
    {
     "data": {
      "text/plain": [
       "-3"
      ]
     },
     "execution_count": 8,
     "metadata": {},
     "output_type": "execute_result"
    }
   ],
   "source": [
    "print(a)  \n",
    "a[2] "
   ]
  },
  {
   "cell_type": "markdown",
   "id": "naval-weekend",
   "metadata": {},
   "source": [
    "In Python, a negative index number means indexing from the end of the list. Thus, a[−1] points to the last element and a[−2] points to the second-last element of the list. \n",
    "\n",
    "###### Python"
   ]
  },
  {
   "cell_type": "code",
   "execution_count": 9,
   "id": "elementary-union",
   "metadata": {},
   "outputs": [
    {
     "name": "stdout",
     "output_type": "stream",
     "text": [
      "26\n"
     ]
    },
    {
     "data": {
      "text/plain": [
       "15"
      ]
     },
     "execution_count": 9,
     "metadata": {},
     "output_type": "execute_result"
    }
   ],
   "source": [
    "print(a[-1])\n",
    "a[-2]"
   ]
  },
  {
   "cell_type": "markdown",
   "id": "metallic-barrel",
   "metadata": {},
   "source": [
    "\n",
    "Whereas, in R, a[−1] and a[−2] return new vectors with a[−1] and a[−2] excluded, respectively.\n",
    "\n",
    "###### R\n",
    "---\n",
    "`print(a)` <br> \n",
    "[1] -5  6 -3  9 15 26 <br> \n",
    "`a[-1]`  <br>\n",
    "[1]  6 -3  9 15 26 <br> \n",
    "`a[-2]`  <br>\n",
    "[1] -5 -3  9 15 26  <br>\n",
    "---\n",
    "\n",
    "\n",
    "#### Accessing multiple elements\n",
    "\n",
    "Let us access the first and fifth elements of vector a:\n",
    "###### R\n",
    "---\n",
    "a[c(1,5)]\n",
    "[1] -5 15\n",
    "---\n",
    "\n",
    "In Python, we cannot access the individual elements in the list. Here we are going to use the `array()` function from the *numpy* Python package to collect data entered into the notebook. The *numpy* package is the core package for scientific computing in Python. It provides a high-performance multidimensional array object and tools for working with these arrays. A *numpy* array is a grid of values, all of the same type.\n",
    "\n",
    "###### Python"
   ]
  },
  {
   "cell_type": "code",
   "execution_count": 10,
   "id": "empty-accessory",
   "metadata": {},
   "outputs": [
    {
     "name": "stdout",
     "output_type": "stream",
     "text": [
      "[-5, 6, -3, 9, 15, 26]\n",
      "[-5, 15]\n"
     ]
    }
   ],
   "source": [
    "import numpy as np\n",
    "print(a)\n",
    "aa = np.array(a)\n",
    "b = [0,4]\n",
    "print(list(aa[b]))"
   ]
  },
  {
   "cell_type": "markdown",
   "id": "annual-emission",
   "metadata": {},
   "source": [
    "#### Accessing elements using a sequence\n",
    "Let us access elements using a sequence. In R, we can create sequences using the `seq()` function.\n",
    "The first two arguments are “from =” and “to =”. The argument `from` is the starting value of the sequence. The argument `to` is the end value of the sequence. The third argument is “by =”. The argument `by` is the value to increment by. Default is 1.\n",
    "Let’s say that we want to extract elements from a sequence from element 2 to element 6, incrementing by 2.\n",
    "\n",
    "\n",
    "###### R\n",
    "---\n",
    "`print(a)`  \n",
    "[1] -5  6 -3  9 15 26  \n",
    "`seq(from=2, to=6, by = 2)`  \n",
    "[1] 2 4 6  \n",
    "`a[seq(from=2, to=6, by = 2)]` #the seq() function creates a vector to be used as an index  \n",
    "[1]  6  9 26  \n",
    "---\n",
    "\n",
    "\n",
    "###### Python"
   ]
  },
  {
   "cell_type": "code",
   "execution_count": 11,
   "id": "acquired-anthony",
   "metadata": {},
   "outputs": [
    {
     "name": "stdout",
     "output_type": "stream",
     "text": [
      "[-5, 6, -3, 9, 15, 26]\n"
     ]
    },
    {
     "data": {
      "text/plain": [
       "[6, 9, 26]"
      ]
     },
     "execution_count": 11,
     "metadata": {},
     "output_type": "execute_result"
    }
   ],
   "source": [
    "print(a)\n",
    "a[1:6:2] # a[from:to:by]"
   ]
  },
  {
   "cell_type": "markdown",
   "id": "authentic-investigation",
   "metadata": {},
   "source": [
    "The code above uses hash character # for comments in both R and Python. Everything after # on the same line is treated as a comment (not executable).  \n",
    "\n",
    "#### Condition-based accessing of sequence elements\n",
    "\n",
    "Condition-based accessing of sequence elements means subsetting elements from a sequence which satisfy certain conditions. In R, it is quite straightforward using a boolean vector whose length is the same as the vector to be subsetted.\n",
    "\n",
    "\n",
    "###### R\n",
    "---\n",
    "`print(a)`  \n",
    "[1] -5  6 -3  9 15 26  \n",
    "a[c(FALSE, TRUE, FALSE, TRUE, FALSE, TRUE)]  \n",
    "[1]  6  9 26  \n",
    "---\n",
    "\n",
    "\n",
    "We can do the same in Python using *numpy* array of Boolean values to specify the indices we want to access. For example, we  access the second, fourth and sixth elements in an array using the following code:\n",
    "<br>\n",
    "\n",
    "###### Python"
   ]
  },
  {
   "cell_type": "code",
   "execution_count": 12,
   "id": "spiritual-notice",
   "metadata": {},
   "outputs": [
    {
     "name": "stdout",
     "output_type": "stream",
     "text": [
      "[-5, 6, -3, 9, 15, 26]\n",
      "[ 6  9 26]\n"
     ]
    }
   ],
   "source": [
    "print(a)\n",
    "aa = np.array(a)\n",
    "b = np.array([False, True, False, True, False, True])\n",
    "print(aa[b])"
   ]
  },
  {
   "cell_type": "markdown",
   "id": "numerous-punch",
   "metadata": {},
   "source": [
    "### Making repeated sequences\n",
    "\n",
    "Sometimes we want to create a vector or list with replicated elements, for example, a vector or list with all elements equal to 0. In R, you can use the rep() function to generate repetitions. Let’s say that we want to create a vector that contains five zeros. We can do this with the times= argument:\n",
    "###### R  \n",
    "---  \n",
    "`b<-rep(0, times = 5)`\n",
    "[1] 0 0 0 0 0\n",
    "---  \n",
    "\n",
    "Whereas in Python, we simply use the `*` operator:\n",
    "    \n",
    "###### Python"
   ]
  },
  {
   "cell_type": "code",
   "execution_count": 13,
   "id": "plastic-monday",
   "metadata": {},
   "outputs": [
    {
     "data": {
      "text/plain": [
       "[0, 0, 0, 0, 0]"
      ]
     },
     "execution_count": 13,
     "metadata": {},
     "output_type": "execute_result"
    }
   ],
   "source": [
    "b=[0]*5\n",
    "b"
   ]
  },
  {
   "cell_type": "markdown",
   "id": "funny-footage",
   "metadata": {},
   "source": [
    "We may also wish to create repetitions of a sequence. \n",
    "###### R  \n",
    "---  \n",
    "`ba<-rep(c(1,3), times = 2)`  \n",
    "[1] 1 3 1 3  \n",
    "---  \n",
    "    \n",
    "###### Python"
   ]
  },
  {
   "cell_type": "code",
   "execution_count": 14,
   "id": "circular-singer",
   "metadata": {},
   "outputs": [
    {
     "data": {
      "text/plain": [
       "[1, 3, 1, 3]"
      ]
     },
     "execution_count": 14,
     "metadata": {},
     "output_type": "execute_result"
    }
   ],
   "source": [
    "ba=[1,3]*2\n",
    "ba"
   ]
  },
  {
   "cell_type": "markdown",
   "id": "embedded-investigation",
   "metadata": {},
   "source": [
    "## **Matrices and arrays**\n",
    "\n",
    "Matrices are a special type of vector in R. Matrices are used to depict the data in a structured and well-organised form. They are not a separate class of objects but simply a vector with dimensions added onto it. The data elements in matrices must be of the same type (figure 5). A matrix is a collection of numbers arranged into a fixed number of rows and columns. Usually, the numbers are real numbers.  "
   ]
  },
  {
   "cell_type": "code",
   "execution_count": 15,
   "id": "modified-explosion",
   "metadata": {},
   "outputs": [
    {
     "data": {
      "image/png": "[encoded data removed]",
      "text/plain": [
       "<IPython.core.display.Image object>"
      ]
     },
     "execution_count": 15,
     "metadata": {},
     "output_type": "execute_result"
    }
   ],
   "source": [
    "display.Image(\"../Figures/Images/Matrix.png\")"
   ]
  },
  {
   "cell_type": "markdown",
   "id": "political-string",
   "metadata": {},
   "source": [
    "Figure 5. Two-dimensional and homogeneous R structures: matrices.\n",
    "\n",
    "Python does not have a built-in type for matrices. However, we can treat an array as a list. However, many linear algebra operations are not supported for the list type. \n",
    "\n",
    "The `array()` class from the *numpy* Python package is used to represent both matrices and vectors in python. Arrays are multi-dimensional data structures. In an array, data is stored in the form of matrices, rows, and as well as in columns. For example, if we want to create an array of dimensions (2, 3, 4), then the array includes four rectangular matrices, each with two rows and three columns. The *base* R package `array()` function is used to create an array. Arrays can store only data of one type (figure 6). In R, the conversion from a vector to an array is by-column."
   ]
  },
  {
   "cell_type": "code",
   "execution_count": 16,
   "id": "protected-driving",
   "metadata": {},
   "outputs": [
    {
     "data": {
      "image/png": "[encoded data removed]",
      "text/plain": [
       "<IPython.core.display.Image object>"
      ]
     },
     "execution_count": 16,
     "metadata": {},
     "output_type": "execute_result"
    }
   ],
   "source": [
    "display.Image(\"../Figures/Images/Array.png\")"
   ]
  },
  {
   "cell_type": "markdown",
   "id": "presidential-milwaukee",
   "metadata": {},
   "source": [
    "###### R  \n",
    "---  \n",
    "#Create two arrays  \n",
    "`b<- array(c(1:18),dim = c(3,6))` # Converts a vector to a three rows six column array  \n",
    "`print(b)`  \n",
    "     [,1] [,2] [,3] [,4] [,5] [,6]  \n",
    "[1,]    1    4    7   10   13   16  \n",
    "[2,]    2    5    8   11   14   17\n",
    "[3,]    3    6    9   12   15   18  \n",
    "`typeof(b)`  \n",
    "[1] \"integer\"  \n",
    "`dim(b)`  \n",
    "[1] 3 6  \n",
    "\n",
    "`ba<- array(c(1:12),dim = c(6,2))' # Converts a vector to a six rows two column array  \n",
    "`print(ba)'  \n",
    "    [,1] [,2]  \n",
    "[1,]    1    7  \n",
    "[2,]    2    8  \n",
    "[3,]    3    9  \n",
    "[4,]    4   10  \n",
    "[5,]    5   11  \n",
    "[6,]    6   12  \n",
    "`typeof(ba)`  \n",
    "[1] \"integer\"  \n",
    "`dim(ba)`  \n",
    "[1] 6 2  \n",
    "---  \n",
    "\n",
    "To construct a matrix in *numpy*, we list the rows of the matrix in a list and pass that list to the numpy array constructor. In numpy, the reshape from a list to a 2D numpy.array is by-row. The *numpy* `reshape()` function gives a new shape to an array without changing its data.  The `reshape()` function argument \"order=\", by default reads list elements using index order, and place the elements into the reshaped array using this index order by-row (order= 'c'). ‘F’ means to read list elements using ‘Fortran-like’ index order, with the first index changing fastest and the last index changing slowest by-column. For example, to construct numpy arrays by-row that corresponds to the arrays in R above:\n",
    "    \n",
    "###### Python"
   ]
  },
  {
   "cell_type": "code",
   "execution_count": 17,
   "id": "round-mexico",
   "metadata": {},
   "outputs": [
    {
     "name": "stdout",
     "output_type": "stream",
     "text": [
      "Array: b\n",
      "[[ 1  4  7 10 13 16]\n",
      " [ 2  5  8 11 14 17]\n",
      " [ 3  6  9 12 15 18]]\n",
      "Type\n",
      "<class 'numpy.ndarray'>\n",
      "Dimensions\n",
      "(3, 6)\n",
      " \n",
      "Array: ba\n",
      "[[ 1  7]\n",
      " [ 2  8]\n",
      " [ 3  9]\n",
      " [ 4 10]\n",
      " [ 5 11]\n",
      " [ 6 12]]\n",
      "Type\n",
      "<class 'numpy.ndarray'>\n",
      "Dimensions\n",
      "(6, 2)\n"
     ]
    }
   ],
   "source": [
    "#Create two arrays\n",
    "b=np.reshape(list(range(1,19)),(3,6), order='F') # Convert the list to a 2D numpy.array is by-row\n",
    "print(\"Array: b\")\n",
    "print(b)\n",
    "print(\"Type\")\n",
    "print(type(b)) # What type of object is b?\n",
    "print(\"Dimensions\")\n",
    "print(b.shape) #What the dimentions of b?\n",
    "print(\" \")\n",
    "\n",
    "ba=np.reshape(list(range(1,13)),(2,6)).T # .T is used to transpose the array\n",
    "print(\"Array: ba\")\n",
    "print(ba)\n",
    "print(\"Type\")\n",
    "print(type(ba)) # What type of object is b?\n",
    "print(\"Dimensions\")\n",
    "print(ba.shape) #What the dimentions of b?"
   ]
  },
  {
   "cell_type": "markdown",
   "id": "electric-display",
   "metadata": {},
   "source": [
    "### Matrix multiplication\n",
    "\n",
    "The first matrix must have the same number of columns as the second matrix has rows to perform matrix multiplication. The operator' %*%' is used for matrix multiplication in R.\n",
    "\n",
    "Let's multiply the two arrays using the `%*%` matrix multiplication operator in R:\n",
    "\n",
    "###### R  \n",
    "---  \n",
    "#Create two arrays  \n",
    "`print(b)`  \n",
    "     [,1] [,2] [,3] [,4] [,5] [,6]  \n",
    "[1,]    1    4    7   10   13   16  \n",
    "[2,]    2    5    8   11   14   17\n",
    "[3,]    3    6    9   12   15   18  \n",
    "`typeof(b)`  \n",
    "[1] \"integer\"  \n",
    "`dim(b)`  \n",
    "[1] 3 6  \n",
    "\n",
    "`print(ba)` <br>\n",
    "    [,1] [,2]  \n",
    "[1,]    1    7  \n",
    "[2,]    2    8  \n",
    "[3,]    3    9  \n",
    "[4,]    4   10  \n",
    "[5,]    5   11  \n",
    "[6,]    6   12    \n",
    "`typeof(ba)`    \n",
    "[1] \"integer\"    \n",
    "`dim(ba)`    \n",
    "[1] 6 2    \n",
    "`bb<-b%*%ba` # Multiply array b and ba  \n",
    "`print(bb)`  \n",
    "     [,1] [,2]  \n",
    "[1,]  231  537  \n",
    "[2,]  252  594  \n",
    "[3,]  273  651  \n",
    "`typeof(bb)`  \n",
    "[1] \"double\" has changed to a floating-point numeric data type.  \n",
    "`dim(bb)`  \n",
    "[1] 3 2 # The resulting matrix has the same number of rows as the first matrix and the same number of columns in the second matrix.  \n",
    "---  \n",
    "\n",
    "\n",
    "The *numpy* `dot()` function gives the dot product of two arrays. If both matrices are 2-D arrays, it is matrix multiplication.\n",
    "\n",
    "###### Python"
   ]
  },
  {
   "cell_type": "code",
   "execution_count": 18,
   "id": "sustainable-ownership",
   "metadata": {},
   "outputs": [
    {
     "name": "stdout",
     "output_type": "stream",
     "text": [
      "Array: b\n",
      "[[ 1  4  7 10 13 16]\n",
      " [ 2  5  8 11 14 17]\n",
      " [ 3  6  9 12 15 18]]\n",
      "Type\n",
      "<class 'numpy.ndarray'>\n",
      "Dimensions\n",
      "(3, 6)\n",
      " \n",
      "Array: ba\n",
      "[[ 1  7]\n",
      " [ 2  8]\n",
      " [ 3  9]\n",
      " [ 4 10]\n",
      " [ 5 11]\n",
      " [ 6 12]]\n",
      "Type\n",
      "<class 'numpy.ndarray'>\n",
      "Dimensions\n",
      "(6, 2)\n",
      "Array: bb\n",
      "[[231 537]\n",
      " [252 594]\n",
      " [273 651]]\n",
      "Type\n",
      "<class 'numpy.ndarray'>\n",
      "Dimensions\n",
      "(3, 2)\n"
     ]
    }
   ],
   "source": [
    "print(\"Array: b\")\n",
    "print(b)\n",
    "print(\"Type\")\n",
    "print(type(b)) # What type of object is b?\n",
    "print(\"Dimensions\")\n",
    "print(b.shape) #What the dimentions of b?\n",
    "print(\" \")\n",
    "\n",
    "print(\"Array: ba\")\n",
    "print(ba)\n",
    "print(\"Type\")\n",
    "print(type(ba)) # What type of object is b?\n",
    "print(\"Dimensions\")\n",
    "print(ba.shape) #What the dimentions of b?  \n",
    "\n",
    "bb=np.dot(b,ba) # Multiply array b and ba  \n",
    "print(\"Array: bb\")\n",
    "print(bb)\n",
    "print(\"Type\")\n",
    "print(type(bb)) # What type of object is b?\n",
    "print(\"Dimensions\")\n",
    "print(bb.shape) #What the dimentions of b? "
   ]
  },
  {
   "cell_type": "markdown",
   "id": "successful-musical",
   "metadata": {},
   "source": [
    "## **Data frames** \n",
    "A data frame is a very important data type in R. It is the most commonly used data structure for tabular data and what we use in data science. A data frame is an array. Unlike an array, the data stored in the columns of a data frame can be of various types (character, integer, numeric, etc.), i.e. they are heterogeneous (figure 7). All columns in a data frame have to be of the same length. "
   ]
  },
  {
   "cell_type": "code",
   "execution_count": 19,
   "id": "lesser-invasion",
   "metadata": {},
   "outputs": [
    {
     "data": {
      "image/png": "[encoded data removed]",
      "text/plain": [
       "<IPython.core.display.Image object>"
      ]
     },
     "execution_count": 19,
     "metadata": {},
     "output_type": "execute_result"
    }
   ],
   "source": [
    "display.Image(\"../Figures/Images/DataFrame.png\")"
   ]
  },
  {
   "cell_type": "markdown",
   "id": "phantom-harrison",
   "metadata": {},
   "source": [
    "Figure 7. Two-dimensional and heterogeneous R structures: data frames.\n",
    "\n",
    "The *base* R package `data.frame()` function is used to create data frames.  \n",
    "By default, R converts character strings to factors when creating data frames. You can avoid converting character strings to factors by setting the `stringsAsFactors =` argument in the *base* R package `options()` function to `FALSE` when creating data frames.\n",
    "\n",
    "Let's see how to define a data frame with two elements, a numeric vector and a character vector. Note that both vectors must be the same length:\n",
    "\n",
    "###### R  \n",
    "---  \n",
    "#Keep the character strings  \n",
    "options(stringsAsFactors = FALSE)   \n",
    "c <- data.frame(BMI=c(18,20,25,29,30, 38),Weight_status=c(\"underweight\",\"healthy weight\",\"overweight\",\"overweight\",\"obese\", \"obese\"))  \n",
    "print(c)    \n",
    "  BMI  Weight_status  \n",
    "1  18    underweight  \n",
    "2  20 healthy weight  \n",
    "3  25     overweight  \n",
    "4  29     overweight  \n",
    "5  30          obese  \n",
    "6  38          obese  \n",
    "---\n",
    "\n",
    "In Python, there is no such built-in data frame data structure.  *pandas* is a Python package for data manipulation and analysis. Pandas `DataFrame` is a two-dimensional tabular, potentially heterogeneous tabular data structure with labelled axes (rows and columns).  \n",
    "\n",
    "\n",
    "Let’s see an example of using `DataFrame()` *pandas* function to represent the R data frame 'c' above in Python:\n"
   ]
  },
  {
   "cell_type": "code",
   "execution_count": 20,
   "id": "optional-script",
   "metadata": {},
   "outputs": [
    {
     "name": "stdout",
     "output_type": "stream",
     "text": [
      "   BMI   Weight_status\n",
      "0   18     underweight\n",
      "1   20  healthy weight\n",
      "2   25      overweight\n",
      "3   29      overweight\n",
      "4   30           obese\n",
      "5   38           obese\n"
     ]
    }
   ],
   "source": [
    "import pandas as pd\n",
    "#Create the panda data frame\n",
    "c=pd.DataFrame({'BMI':[18,20,25,29,30, 38], 'Weight_status':[\"underweight\",\"healthy weight\",\"overweight\",\"overweight\",\"obese\", \"obese\"]})\n",
    "print(c)"
   ]
  },
  {
   "cell_type": "markdown",
   "id": "opened-oracle",
   "metadata": {},
   "source": [
    "Although the data.frame() is a built-in type, it is not quite efficient for many operations. In general, operations on an array or a matrix are much faster than those on a data frame. In R, we can use the *base* R package function 'data.matrix()'' to convert a data.frame to an array or a matrix. In Python, we can use the *numpy* function `asarray()` to convert the data frame to an array.\n",
    "<br>\n",
    "<br>\n",
    "\n",
    "I hope these examples help you to improve your Python programming skills. Happy Coding!"
   ]
  }
 ],
 "metadata": {
  "kernelspec": {
   "display_name": "Python 3 (ipykernel)",
   "language": "python",
   "name": "python3"
  },
  "language_info": {
   "codemirror_mode": {
    "name": "ipython",
    "version": 3
   },
   "file_extension": ".py",
   "mimetype": "text/x-python",
   "name": "python",
   "nbconvert_exporter": "python",
   "pygments_lexer": "ipython3",
   "version": "3.9.2"
  }
 },
 "nbformat": 4,
 "nbformat_minor": 5
}
